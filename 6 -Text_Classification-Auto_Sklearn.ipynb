{
 "cells": [
  {
   "cell_type": "markdown",
   "metadata": {
    "id": "G5HXY3Bm7lfG"
   },
   "source": [
    "##  **Auto Machine Learning with Auto-Sklearn library**\n",
    "\n",
    "\n"
   ]
  },
  {
   "cell_type": "code",
   "execution_count": null,
   "metadata": {
    "colab": {
     "base_uri": "https://localhost:8080/"
    },
    "executionInfo": {
     "elapsed": 38041,
     "status": "ok",
     "timestamp": 1622568130815,
     "user": {
      "displayName": "Maria Ximena Arias Barahona",
      "photoUrl": "https://lh3.googleusercontent.com/a-/AOh14GjTqDWwbM5jN23nAH8MccUYNyBDyKC4X5vFJdlnyA=s64",
      "userId": "10381678158060334319"
     },
     "user_tz": 300
    },
    "id": "0CCkn_t6QGzu",
    "outputId": "3d720a77-9657-49f8-fba1-bbb1505a6163"
   },
   "outputs": [
    {
     "name": "stdout",
     "output_type": "stream",
     "text": [
      "  % Total    % Received % Xferd  Average Speed   Time    Time     Time  Current\n",
      "                                 Dload  Upload   Total   Spent    Left  Speed\n",
      "\r",
      "  0     0    0     0    0     0      0      0 --:--:-- --:--:-- --:--:--     0\r",
      "100   209  100   209    0     0   2296      0 --:--:-- --:--:-- --:--:--  2296\n",
      "Requirement already satisfied: setuptools in /usr/local/lib/python3.7/dist-packages (56.1.0)\n",
      "Requirement already satisfied: numpy>=1.9.0 in /usr/local/lib/python3.7/dist-packages (1.19.5)\n",
      "Requirement already satisfied: scipy>=0.14.1 in /usr/local/lib/python3.7/dist-packages (1.4.1)\n",
      "Requirement already satisfied: numpy>=1.13.3 in /usr/local/lib/python3.7/dist-packages (from scipy>=0.14.1) (1.19.5)\n",
      "Requirement already satisfied: joblib in /usr/local/lib/python3.7/dist-packages (1.0.1)\n",
      "Requirement already satisfied: scikit-learn<0.25.0,>=0.24.0 in /usr/local/lib/python3.7/dist-packages (0.24.2)\n",
      "Requirement already satisfied: threadpoolctl>=2.0.0 in /usr/local/lib/python3.7/dist-packages (from scikit-learn<0.25.0,>=0.24.0) (2.1.0)\n",
      "Requirement already satisfied: scipy>=0.19.1 in /usr/local/lib/python3.7/dist-packages (from scikit-learn<0.25.0,>=0.24.0) (1.4.1)\n",
      "Requirement already satisfied: joblib>=0.11 in /usr/local/lib/python3.7/dist-packages (from scikit-learn<0.25.0,>=0.24.0) (1.0.1)\n",
      "Requirement already satisfied: numpy>=1.13.3 in /usr/local/lib/python3.7/dist-packages (from scikit-learn<0.25.0,>=0.24.0) (1.19.5)\n",
      "Requirement already satisfied: dask in /usr/local/lib/python3.7/dist-packages (2021.5.1)\n",
      "Requirement already satisfied: pyyaml in /usr/local/lib/python3.7/dist-packages (from dask) (3.13)\n",
      "Requirement already satisfied: fsspec>=0.6.0 in /usr/local/lib/python3.7/dist-packages (from dask) (2021.5.0)\n",
      "Requirement already satisfied: cloudpickle>=1.1.1 in /usr/local/lib/python3.7/dist-packages (from dask) (1.6.0)\n",
      "Requirement already satisfied: toolz>=0.8.2 in /usr/local/lib/python3.7/dist-packages (from dask) (0.11.1)\n",
      "Requirement already satisfied: partd>=0.3.10 in /usr/local/lib/python3.7/dist-packages (from dask) (1.2.0)\n",
      "Requirement already satisfied: locket in /usr/local/lib/python3.7/dist-packages (from partd>=0.3.10->dask) (0.2.1)\n",
      "Requirement already satisfied: distributed>=2.2.0 in /usr/local/lib/python3.7/dist-packages (2021.5.1)\n",
      "Requirement already satisfied: psutil>=5.0 in /usr/local/lib/python3.7/dist-packages (from distributed>=2.2.0) (5.4.8)\n",
      "Requirement already satisfied: toolz>=0.8.2 in /usr/local/lib/python3.7/dist-packages (from distributed>=2.2.0) (0.11.1)\n",
      "Requirement already satisfied: setuptools in /usr/local/lib/python3.7/dist-packages (from distributed>=2.2.0) (56.1.0)\n",
      "Requirement already satisfied: dask==2021.05.1 in /usr/local/lib/python3.7/dist-packages (from distributed>=2.2.0) (2021.5.1)\n",
      "Requirement already satisfied: tblib>=1.6.0 in /usr/local/lib/python3.7/dist-packages (from distributed>=2.2.0) (1.7.0)\n",
      "Requirement already satisfied: sortedcontainers!=2.0.0,!=2.0.1 in /usr/local/lib/python3.7/dist-packages (from distributed>=2.2.0) (2.4.0)\n",
      "Requirement already satisfied: pyyaml in /usr/local/lib/python3.7/dist-packages (from distributed>=2.2.0) (3.13)\n",
      "Requirement already satisfied: tornado>=5; python_version < \"3.8\" in /usr/local/lib/python3.7/dist-packages (from distributed>=2.2.0) (5.1.1)\n",
      "Requirement already satisfied: click>=6.6 in /usr/local/lib/python3.7/dist-packages (from distributed>=2.2.0) (7.1.2)\n",
      "Requirement already satisfied: zict>=0.1.3 in /usr/local/lib/python3.7/dist-packages (from distributed>=2.2.0) (2.0.0)\n",
      "Requirement already satisfied: msgpack>=0.6.0 in /usr/local/lib/python3.7/dist-packages (from distributed>=2.2.0) (1.0.2)\n",
      "Requirement already satisfied: cloudpickle>=1.5.0 in /usr/local/lib/python3.7/dist-packages (from distributed>=2.2.0) (1.6.0)\n",
      "Requirement already satisfied: fsspec>=0.6.0 in /usr/local/lib/python3.7/dist-packages (from dask==2021.05.1->distributed>=2.2.0) (2021.5.0)\n",
      "Requirement already satisfied: partd>=0.3.10 in /usr/local/lib/python3.7/dist-packages (from dask==2021.05.1->distributed>=2.2.0) (1.2.0)\n",
      "Requirement already satisfied: heapdict in /usr/local/lib/python3.7/dist-packages (from zict>=0.1.3->distributed>=2.2.0) (1.0.1)\n",
      "Requirement already satisfied: locket in /usr/local/lib/python3.7/dist-packages (from partd>=0.3.10->dask==2021.05.1->distributed>=2.2.0) (0.2.1)\n",
      "Requirement already satisfied: pyyaml in /usr/local/lib/python3.7/dist-packages (3.13)\n",
      "Requirement already satisfied: pandas>=1.0 in /usr/local/lib/python3.7/dist-packages (1.1.5)\n",
      "Requirement already satisfied: pytz>=2017.2 in /usr/local/lib/python3.7/dist-packages (from pandas>=1.0) (2018.9)\n",
      "Requirement already satisfied: numpy>=1.15.4 in /usr/local/lib/python3.7/dist-packages (from pandas>=1.0) (1.19.5)\n",
      "Requirement already satisfied: python-dateutil>=2.7.3 in /usr/local/lib/python3.7/dist-packages (from pandas>=1.0) (2.8.1)\n",
      "Requirement already satisfied: six>=1.5 in /usr/local/lib/python3.7/dist-packages (from python-dateutil>=2.7.3->pandas>=1.0) (1.15.0)\n",
      "Requirement already satisfied: liac-arff in /usr/local/lib/python3.7/dist-packages (2.5.0)\n",
      "Requirement already satisfied: ConfigSpace<0.5,>=0.4.14 in /usr/local/lib/python3.7/dist-packages (0.4.19)\n",
      "Requirement already satisfied: pyparsing in /usr/local/lib/python3.7/dist-packages (from ConfigSpace<0.5,>=0.4.14) (2.4.7)\n",
      "Requirement already satisfied: numpy in /usr/local/lib/python3.7/dist-packages (from ConfigSpace<0.5,>=0.4.14) (1.19.5)\n",
      "Requirement already satisfied: cython in /usr/local/lib/python3.7/dist-packages (from ConfigSpace<0.5,>=0.4.14) (0.29.23)\n",
      "Requirement already satisfied: pynisher>=0.6.3 in /usr/local/lib/python3.7/dist-packages (0.6.4)\n",
      "Requirement already satisfied: psutil in /usr/local/lib/python3.7/dist-packages (from pynisher>=0.6.3) (5.4.8)\n",
      "Requirement already satisfied: setuptools in /usr/local/lib/python3.7/dist-packages (from pynisher>=0.6.3) (56.1.0)\n",
      "Requirement already satisfied: pyrfr<0.9,>=0.8.1 in /usr/local/lib/python3.7/dist-packages (0.8.2)\n",
      "Requirement already satisfied: smac<0.14,>=0.13.1 in /usr/local/lib/python3.7/dist-packages (0.13.1)\n",
      "Requirement already satisfied: distributed in /usr/local/lib/python3.7/dist-packages (from smac<0.14,>=0.13.1) (2021.5.1)\n",
      "Requirement already satisfied: scikit-learn>=0.22.0 in /usr/local/lib/python3.7/dist-packages (from smac<0.14,>=0.13.1) (0.24.2)\n",
      "Requirement already satisfied: joblib in /usr/local/lib/python3.7/dist-packages (from smac<0.14,>=0.13.1) (1.0.1)\n",
      "Requirement already satisfied: scipy>=0.18.1 in /usr/local/lib/python3.7/dist-packages (from smac<0.14,>=0.13.1) (1.4.1)\n",
      "Requirement already satisfied: pyrfr>=0.8.0 in /usr/local/lib/python3.7/dist-packages (from smac<0.14,>=0.13.1) (0.8.2)\n",
      "Requirement already satisfied: pynisher>=0.4.1 in /usr/local/lib/python3.7/dist-packages (from smac<0.14,>=0.13.1) (0.6.4)\n",
      "Requirement already satisfied: psutil in /usr/local/lib/python3.7/dist-packages (from smac<0.14,>=0.13.1) (5.4.8)\n",
      "Requirement already satisfied: dask in /usr/local/lib/python3.7/dist-packages (from smac<0.14,>=0.13.1) (2021.5.1)\n",
      "Requirement already satisfied: lazy-import in /usr/local/lib/python3.7/dist-packages (from smac<0.14,>=0.13.1) (0.2.2)\n",
      "Requirement already satisfied: numpy>=1.7.1 in /usr/local/lib/python3.7/dist-packages (from smac<0.14,>=0.13.1) (1.19.5)\n",
      "Requirement already satisfied: ConfigSpace<0.5,>=0.4.14 in /usr/local/lib/python3.7/dist-packages (from smac<0.14,>=0.13.1) (0.4.19)\n",
      "Requirement already satisfied: sortedcontainers!=2.0.0,!=2.0.1 in /usr/local/lib/python3.7/dist-packages (from distributed->smac<0.14,>=0.13.1) (2.4.0)\n",
      "Requirement already satisfied: tornado>=5; python_version < \"3.8\" in /usr/local/lib/python3.7/dist-packages (from distributed->smac<0.14,>=0.13.1) (5.1.1)\n",
      "Requirement already satisfied: click>=6.6 in /usr/local/lib/python3.7/dist-packages (from distributed->smac<0.14,>=0.13.1) (7.1.2)\n",
      "Requirement already satisfied: pyyaml in /usr/local/lib/python3.7/dist-packages (from distributed->smac<0.14,>=0.13.1) (3.13)\n",
      "Requirement already satisfied: cloudpickle>=1.5.0 in /usr/local/lib/python3.7/dist-packages (from distributed->smac<0.14,>=0.13.1) (1.6.0)\n",
      "Requirement already satisfied: setuptools in /usr/local/lib/python3.7/dist-packages (from distributed->smac<0.14,>=0.13.1) (56.1.0)\n",
      "Requirement already satisfied: toolz>=0.8.2 in /usr/local/lib/python3.7/dist-packages (from distributed->smac<0.14,>=0.13.1) (0.11.1)\n",
      "Requirement already satisfied: zict>=0.1.3 in /usr/local/lib/python3.7/dist-packages (from distributed->smac<0.14,>=0.13.1) (2.0.0)\n",
      "Requirement already satisfied: msgpack>=0.6.0 in /usr/local/lib/python3.7/dist-packages (from distributed->smac<0.14,>=0.13.1) (1.0.2)\n",
      "Requirement already satisfied: tblib>=1.6.0 in /usr/local/lib/python3.7/dist-packages (from distributed->smac<0.14,>=0.13.1) (1.7.0)\n",
      "Requirement already satisfied: threadpoolctl>=2.0.0 in /usr/local/lib/python3.7/dist-packages (from scikit-learn>=0.22.0->smac<0.14,>=0.13.1) (2.1.0)\n",
      "Requirement already satisfied: fsspec>=0.6.0 in /usr/local/lib/python3.7/dist-packages (from dask->smac<0.14,>=0.13.1) (2021.5.0)\n",
      "Requirement already satisfied: partd>=0.3.10 in /usr/local/lib/python3.7/dist-packages (from dask->smac<0.14,>=0.13.1) (1.2.0)\n",
      "Requirement already satisfied: six in /usr/local/lib/python3.7/dist-packages (from lazy-import->smac<0.14,>=0.13.1) (1.15.0)\n",
      "Requirement already satisfied: pyparsing in /usr/local/lib/python3.7/dist-packages (from ConfigSpace<0.5,>=0.4.14->smac<0.14,>=0.13.1) (2.4.7)\n",
      "Requirement already satisfied: cython in /usr/local/lib/python3.7/dist-packages (from ConfigSpace<0.5,>=0.4.14->smac<0.14,>=0.13.1) (0.29.23)\n",
      "Requirement already satisfied: heapdict in /usr/local/lib/python3.7/dist-packages (from zict>=0.1.3->distributed->smac<0.14,>=0.13.1) (1.0.1)\n",
      "Requirement already satisfied: locket in /usr/local/lib/python3.7/dist-packages (from partd>=0.3.10->dask->smac<0.14,>=0.13.1) (0.2.1)\n"
     ]
    }
   ],
   "source": [
    "!curl https://raw.githubusercontent.com/automl/auto-sklearn/master/requirements.txt | xargs -n 1 -L 1 pip3 install"
   ]
  },
  {
   "cell_type": "code",
   "execution_count": null,
   "metadata": {
    "colab": {
     "base_uri": "https://localhost:8080/"
    },
    "executionInfo": {
     "elapsed": 3099,
     "status": "ok",
     "timestamp": 1622568164200,
     "user": {
      "displayName": "Maria Ximena Arias Barahona",
      "photoUrl": "https://lh3.googleusercontent.com/a-/AOh14GjTqDWwbM5jN23nAH8MccUYNyBDyKC4X5vFJdlnyA=s64",
      "userId": "10381678158060334319"
     },
     "user_tz": 300
    },
    "id": "QX8uN44mQRUZ",
    "outputId": "2ced6c26-1b63-4cc6-8e84-6443e65ca883"
   },
   "outputs": [
    {
     "name": "stdout",
     "output_type": "stream",
     "text": [
      "Requirement already satisfied: auto-sklearn in /usr/local/lib/python3.7/dist-packages (0.12.6)\n",
      "Requirement already satisfied: distributed>=2.2.0 in /usr/local/lib/python3.7/dist-packages (from auto-sklearn) (2021.5.1)\n",
      "Requirement already satisfied: pyrfr<0.9,>=0.8.1 in /usr/local/lib/python3.7/dist-packages (from auto-sklearn) (0.8.2)\n",
      "Requirement already satisfied: joblib in /usr/local/lib/python3.7/dist-packages (from auto-sklearn) (1.0.1)\n",
      "Requirement already satisfied: liac-arff in /usr/local/lib/python3.7/dist-packages (from auto-sklearn) (2.5.0)\n",
      "Requirement already satisfied: setuptools in /usr/local/lib/python3.7/dist-packages (from auto-sklearn) (56.1.0)\n",
      "Requirement already satisfied: pyyaml in /usr/local/lib/python3.7/dist-packages (from auto-sklearn) (3.13)\n",
      "Requirement already satisfied: numpy>=1.9.0 in /usr/local/lib/python3.7/dist-packages (from auto-sklearn) (1.19.5)\n",
      "Requirement already satisfied: pandas>=1.0 in /usr/local/lib/python3.7/dist-packages (from auto-sklearn) (1.1.5)\n",
      "Requirement already satisfied: dask in /usr/local/lib/python3.7/dist-packages (from auto-sklearn) (2021.5.1)\n",
      "Requirement already satisfied: scipy>=0.14.1 in /usr/local/lib/python3.7/dist-packages (from auto-sklearn) (1.4.1)\n",
      "Requirement already satisfied: ConfigSpace<0.5,>=0.4.14 in /usr/local/lib/python3.7/dist-packages (from auto-sklearn) (0.4.19)\n",
      "Requirement already satisfied: scikit-learn<0.25.0,>=0.24.0 in /usr/local/lib/python3.7/dist-packages (from auto-sklearn) (0.24.2)\n",
      "Requirement already satisfied: smac<0.14,>=0.13.1 in /usr/local/lib/python3.7/dist-packages (from auto-sklearn) (0.13.1)\n",
      "Requirement already satisfied: pynisher>=0.6.3 in /usr/local/lib/python3.7/dist-packages (from auto-sklearn) (0.6.4)\n",
      "Requirement already satisfied: click>=6.6 in /usr/local/lib/python3.7/dist-packages (from distributed>=2.2.0->auto-sklearn) (7.1.2)\n",
      "Requirement already satisfied: zict>=0.1.3 in /usr/local/lib/python3.7/dist-packages (from distributed>=2.2.0->auto-sklearn) (2.0.0)\n",
      "Requirement already satisfied: sortedcontainers!=2.0.0,!=2.0.1 in /usr/local/lib/python3.7/dist-packages (from distributed>=2.2.0->auto-sklearn) (2.4.0)\n",
      "Requirement already satisfied: tornado>=5; python_version < \"3.8\" in /usr/local/lib/python3.7/dist-packages (from distributed>=2.2.0->auto-sklearn) (5.1.1)\n",
      "Requirement already satisfied: cloudpickle>=1.5.0 in /usr/local/lib/python3.7/dist-packages (from distributed>=2.2.0->auto-sklearn) (1.6.0)\n",
      "Requirement already satisfied: psutil>=5.0 in /usr/local/lib/python3.7/dist-packages (from distributed>=2.2.0->auto-sklearn) (5.4.8)\n",
      "Requirement already satisfied: toolz>=0.8.2 in /usr/local/lib/python3.7/dist-packages (from distributed>=2.2.0->auto-sklearn) (0.11.1)\n",
      "Requirement already satisfied: tblib>=1.6.0 in /usr/local/lib/python3.7/dist-packages (from distributed>=2.2.0->auto-sklearn) (1.7.0)\n",
      "Requirement already satisfied: msgpack>=0.6.0 in /usr/local/lib/python3.7/dist-packages (from distributed>=2.2.0->auto-sklearn) (1.0.2)\n",
      "Requirement already satisfied: python-dateutil>=2.7.3 in /usr/local/lib/python3.7/dist-packages (from pandas>=1.0->auto-sklearn) (2.8.1)\n",
      "Requirement already satisfied: pytz>=2017.2 in /usr/local/lib/python3.7/dist-packages (from pandas>=1.0->auto-sklearn) (2018.9)\n",
      "Requirement already satisfied: partd>=0.3.10 in /usr/local/lib/python3.7/dist-packages (from dask->auto-sklearn) (1.2.0)\n",
      "Requirement already satisfied: fsspec>=0.6.0 in /usr/local/lib/python3.7/dist-packages (from dask->auto-sklearn) (2021.5.0)\n",
      "Requirement already satisfied: cython in /usr/local/lib/python3.7/dist-packages (from ConfigSpace<0.5,>=0.4.14->auto-sklearn) (0.29.23)\n",
      "Requirement already satisfied: pyparsing in /usr/local/lib/python3.7/dist-packages (from ConfigSpace<0.5,>=0.4.14->auto-sklearn) (2.4.7)\n",
      "Requirement already satisfied: threadpoolctl>=2.0.0 in /usr/local/lib/python3.7/dist-packages (from scikit-learn<0.25.0,>=0.24.0->auto-sklearn) (2.1.0)\n",
      "Requirement already satisfied: lazy-import in /usr/local/lib/python3.7/dist-packages (from smac<0.14,>=0.13.1->auto-sklearn) (0.2.2)\n",
      "Requirement already satisfied: heapdict in /usr/local/lib/python3.7/dist-packages (from zict>=0.1.3->distributed>=2.2.0->auto-sklearn) (1.0.1)\n",
      "Requirement already satisfied: six>=1.5 in /usr/local/lib/python3.7/dist-packages (from python-dateutil>=2.7.3->pandas>=1.0->auto-sklearn) (1.15.0)\n",
      "Requirement already satisfied: locket in /usr/local/lib/python3.7/dist-packages (from partd>=0.3.10->dask->auto-sklearn) (0.2.1)\n"
     ]
    }
   ],
   "source": [
    "!pip3 install auto-sklearn"
   ]
  },
  {
   "cell_type": "code",
   "execution_count": null,
   "metadata": {
    "colab": {
     "base_uri": "https://localhost:8080/"
    },
    "executionInfo": {
     "elapsed": 2032,
     "status": "ok",
     "timestamp": 1622568173129,
     "user": {
      "displayName": "Maria Ximena Arias Barahona",
      "photoUrl": "https://lh3.googleusercontent.com/a-/AOh14GjTqDWwbM5jN23nAH8MccUYNyBDyKC4X5vFJdlnyA=s64",
      "userId": "10381678158060334319"
     },
     "user_tz": 300
    },
    "id": "GDBvb9AeQRR8",
    "outputId": "4d957f90-4bff-47a3-fdbc-b577151d5690"
   },
   "outputs": [
    {
     "name": "stdout",
     "output_type": "stream",
     "text": [
      "Reading package lists... Done\n",
      "Building dependency tree       \n",
      "Reading state information... Done\n",
      "build-essential is already the newest version (12.4ubuntu1).\n",
      "swig is already the newest version (3.0.12-1).\n",
      "python3-dev is already the newest version (3.6.7-1~18.04).\n",
      "The following package was automatically installed and is no longer required:\n",
      "  libnvidia-common-460\n",
      "Use 'sudo apt autoremove' to remove it.\n",
      "0 upgraded, 0 newly installed, 0 to remove and 34 not upgraded.\n"
     ]
    }
   ],
   "source": [
    "!sudo apt-get install build-essential swig python3-dev"
   ]
  },
  {
   "cell_type": "code",
   "execution_count": null,
   "metadata": {
    "colab": {
     "base_uri": "https://localhost:8080/",
     "height": 35
    },
    "executionInfo": {
     "elapsed": 859,
     "status": "ok",
     "timestamp": 1622568227269,
     "user": {
      "displayName": "Maria Ximena Arias Barahona",
      "photoUrl": "https://lh3.googleusercontent.com/a-/AOh14GjTqDWwbM5jN23nAH8MccUYNyBDyKC4X5vFJdlnyA=s64",
      "userId": "10381678158060334319"
     },
     "user_tz": 300
    },
    "id": "e2XzVSvmQRPu",
    "outputId": "b29dc34e-c2e5-4ec1-87bf-7ac4abe6873d"
   },
   "outputs": [
    {
     "data": {
      "application/vnd.google.colaboratory.intrinsic+json": {
       "type": "string"
      },
      "text/plain": [
       "'0.24.2'"
      ]
     },
     "execution_count": 4,
     "metadata": {
      "tags": []
     },
     "output_type": "execute_result"
    }
   ],
   "source": [
    "import sklearn\n",
    "sklearn.__version__"
   ]
  },
  {
   "cell_type": "code",
   "execution_count": null,
   "metadata": {
    "id": "kL0XLsnNQRNF"
   },
   "outputs": [],
   "source": [
    "import pandas as pd\n",
    "import matplotlib.pyplot as plt\n",
    "import numpy as np\n",
    "from autosklearn.classification import AutoSklearnClassifier\n",
    "from sklearn.model_selection import train_test_split\n",
    "from sklearn.datasets import load_digits\n",
    "\n",
    "from sklearn.metrics import classification_report, ConfusionMatrixDisplay, confusion_matrix\n",
    "from sklearn.metrics import accuracy_score\n",
    "from sklearn.metrics import f1_score\n",
    "from sklearn.metrics import recall_score\n",
    "from sklearn.metrics import precision_score\n",
    "from mlxtend.plotting import plot_confusion_matrix\n",
    "\n",
    "from sklearn.feature_extraction.text import TfidfTransformer\n",
    "from sklearn.feature_extraction.text import TfidfVectorizer\n",
    "from sklearn.feature_extraction.text import CountVectorizer\n",
    "\n",
    "import string \n",
    "from nltk.corpus import stopwords"
   ]
  },
  {
   "cell_type": "code",
   "execution_count": null,
   "metadata": {
    "colab": {
     "base_uri": "https://localhost:8080/"
    },
    "executionInfo": {
     "elapsed": 33176,
     "status": "ok",
     "timestamp": 1622568273381,
     "user": {
      "displayName": "Maria Ximena Arias Barahona",
      "photoUrl": "https://lh3.googleusercontent.com/a-/AOh14GjTqDWwbM5jN23nAH8MccUYNyBDyKC4X5vFJdlnyA=s64",
      "userId": "10381678158060334319"
     },
     "user_tz": 300
    },
    "id": "GBbVnqRATJyw",
    "outputId": "fca15544-885f-485f-9a93-417898d1362c"
   },
   "outputs": [
    {
     "name": "stdout",
     "output_type": "stream",
     "text": [
      "Mounted at /content/drive\n"
     ]
    }
   ],
   "source": [
    "from google.colab import drive\n",
    "drive.mount('/content/drive')"
   ]
  },
  {
   "cell_type": "code",
   "execution_count": null,
   "metadata": {
    "colab": {
     "base_uri": "https://localhost:8080/"
    },
    "executionInfo": {
     "elapsed": 5357,
     "status": "ok",
     "timestamp": 1622568289882,
     "user": {
      "displayName": "Maria Ximena Arias Barahona",
      "photoUrl": "https://lh3.googleusercontent.com/a-/AOh14GjTqDWwbM5jN23nAH8MccUYNyBDyKC4X5vFJdlnyA=s64",
      "userId": "10381678158060334319"
     },
     "user_tz": 300
    },
    "id": "xE7zF-s1QRKd",
    "outputId": "77871a85-f556-44ae-bc5b-38744d31104d"
   },
   "outputs": [
    {
     "data": {
      "text/plain": [
       "(13606, 9)"
      ]
     },
     "execution_count": 7,
     "metadata": {
      "tags": []
     },
     "output_type": "execute_result"
    }
   ],
   "source": [
    "# Load Dataset\n",
    "DataSet0 = pd.read_excel('/content/drive/MyDrive/Maestría en Ingeniería/Machine Learning/Proyecto Final/Descripcion.xlsx')\n",
    "DataSet0.shape"
   ]
  },
  {
   "cell_type": "code",
   "execution_count": null,
   "metadata": {
    "colab": {
     "base_uri": "https://localhost:8080/",
     "height": 267
    },
    "executionInfo": {
     "elapsed": 414,
     "status": "ok",
     "timestamp": 1622568298790,
     "user": {
      "displayName": "Maria Ximena Arias Barahona",
      "photoUrl": "https://lh3.googleusercontent.com/a-/AOh14GjTqDWwbM5jN23nAH8MccUYNyBDyKC4X5vFJdlnyA=s64",
      "userId": "10381678158060334319"
     },
     "user_tz": 300
    },
    "id": "EKvzOuuUQRH7",
    "outputId": "94760d07-cc01-494a-cf16-11e38795f499"
   },
   "outputs": [
    {
     "data": {
      "text/html": [
       "<div>\n",
       "<style scoped>\n",
       "    .dataframe tbody tr th:only-of-type {\n",
       "        vertical-align: middle;\n",
       "    }\n",
       "\n",
       "    .dataframe tbody tr th {\n",
       "        vertical-align: top;\n",
       "    }\n",
       "\n",
       "    .dataframe thead th {\n",
       "        text-align: right;\n",
       "    }\n",
       "</style>\n",
       "<table border=\"1\" class=\"dataframe\">\n",
       "  <thead>\n",
       "    <tr style=\"text-align: right;\">\n",
       "      <th></th>\n",
       "      <th>tik_codigo</th>\n",
       "      <th>descripcion</th>\n",
       "      <th>propietario</th>\n",
       "      <th>categoria</th>\n",
       "      <th>modulo</th>\n",
       "      <th>producto</th>\n",
       "      <th>ans</th>\n",
       "      <th>nombre_cliente</th>\n",
       "      <th>Linea_Negocio</th>\n",
       "    </tr>\n",
       "  </thead>\n",
       "  <tbody>\n",
       "    <tr>\n",
       "      <th>0</th>\n",
       "      <td>TIK1460</td>\n",
       "      <td>Presentacion Moodle</td>\n",
       "      <td>1.053860e+09</td>\n",
       "      <td>No definido</td>\n",
       "      <td>NaN</td>\n",
       "      <td>NaN</td>\n",
       "      <td>NaN</td>\n",
       "      <td>SIGMA Ingeniería S.A</td>\n",
       "      <td>SIGMA</td>\n",
       "    </tr>\n",
       "    <tr>\n",
       "      <th>1</th>\n",
       "      <td>TIK1005</td>\n",
       "      <td>Revision Presentacion Aliado de Negocio JEEP</td>\n",
       "      <td>2.434445e+07</td>\n",
       "      <td>No definido</td>\n",
       "      <td>NaN</td>\n",
       "      <td>NaN</td>\n",
       "      <td>NR</td>\n",
       "      <td>SIGMA Ingeniería S.A</td>\n",
       "      <td>SIGMA</td>\n",
       "    </tr>\n",
       "    <tr>\n",
       "      <th>2</th>\n",
       "      <td>TIK1006</td>\n",
       "      <td>Se debe realizar la configuración de los servi...</td>\n",
       "      <td>1.607954e+07</td>\n",
       "      <td>Creación de servicios / publicación de servicios</td>\n",
       "      <td>NaN</td>\n",
       "      <td>NaN</td>\n",
       "      <td>NR</td>\n",
       "      <td>Cartagueña de Aseo Total ESP</td>\n",
       "      <td>Geoaseo</td>\n",
       "    </tr>\n",
       "    <tr>\n",
       "      <th>3</th>\n",
       "      <td>TIK1015</td>\n",
       "      <td>Análisis Calidad y verificaciones.</td>\n",
       "      <td>1.058818e+09</td>\n",
       "      <td>No definido</td>\n",
       "      <td>NaN</td>\n",
       "      <td>NaN</td>\n",
       "      <td>NR</td>\n",
       "      <td>Codensa</td>\n",
       "      <td>Geolumina</td>\n",
       "    </tr>\n",
       "    <tr>\n",
       "      <th>4</th>\n",
       "      <td>TIK7096</td>\n",
       "      <td>Capa predial Cartagena</td>\n",
       "      <td>2.434355e+07</td>\n",
       "      <td>No definido</td>\n",
       "      <td>NaN</td>\n",
       "      <td>NaN</td>\n",
       "      <td>NR</td>\n",
       "      <td>SIGMA Ingeniería S.A</td>\n",
       "      <td>SIGMA</td>\n",
       "    </tr>\n",
       "  </tbody>\n",
       "</table>\n",
       "</div>"
      ],
      "text/plain": [
       "  tik_codigo  ... Linea_Negocio\n",
       "0    TIK1460  ...         SIGMA\n",
       "1    TIK1005  ...         SIGMA\n",
       "2    TIK1006  ...       Geoaseo\n",
       "3    TIK1015  ...     Geolumina\n",
       "4    TIK7096  ...         SIGMA\n",
       "\n",
       "[5 rows x 9 columns]"
      ]
     },
     "execution_count": 8,
     "metadata": {
      "tags": []
     },
     "output_type": "execute_result"
    }
   ],
   "source": [
    "DataSet0.head()"
   ]
  },
  {
   "cell_type": "code",
   "execution_count": null,
   "metadata": {
    "id": "sIxqBHNRz7Bu"
   },
   "outputs": [],
   "source": [
    "PorBorrar1 = DataSet0[DataSet0['descripcion'].isnull()].index\n",
    "DataSet0=DataSet0.drop(PorBorrar1, axis=0).reset_index(drop = True)\n",
    "PorBorrar1 = DataSet0[DataSet0['categoria'].isnull()].index\n",
    "DataSet0=DataSet0.drop(PorBorrar1, axis=0).reset_index(drop = True)\n",
    "# PorBorrar1 = DataSet0[DataSet0['nombre_cliente'].isnull()].index\n",
    "# DataSet0=DataSet0.drop(PorBorrar1, axis=0).reset_index(drop = True)\n",
    "# PorBorrar1 = DataSet0[DataSet0['Linea_Negocio'].isnull()].index\n",
    "# DataSet0=DataSet0.drop(PorBorrar1, axis=0).reset_index(drop = True)\n",
    "\n",
    "\n",
    "PorBorrar1 = DataSet0[DataSet0['categoria'] == '1- Nuevo requerimiento'].index\n",
    "DataSet0=DataSet0.drop(PorBorrar1, axis=0).reset_index(drop = True)\n",
    "PorBorrar1 = DataSet0[DataSet0['categoria'] == 'No definido'].index\n",
    "DataSet0=DataSet0.drop(PorBorrar1, axis=0).reset_index(drop = True)"
   ]
  },
  {
   "cell_type": "code",
   "execution_count": null,
   "metadata": {
    "colab": {
     "base_uri": "https://localhost:8080/",
     "height": 407
    },
    "executionInfo": {
     "elapsed": 439,
     "status": "ok",
     "timestamp": 1622568320232,
     "user": {
      "displayName": "Maria Ximena Arias Barahona",
      "photoUrl": "https://lh3.googleusercontent.com/a-/AOh14GjTqDWwbM5jN23nAH8MccUYNyBDyKC4X5vFJdlnyA=s64",
      "userId": "10381678158060334319"
     },
     "user_tz": 300
    },
    "id": "Lw_p2CVzm6WS",
    "outputId": "ef4387a3-c204-4eb5-8a2c-d9ba7a47e6aa"
   },
   "outputs": [
    {
     "data": {
      "text/html": [
       "<div>\n",
       "<style scoped>\n",
       "    .dataframe tbody tr th:only-of-type {\n",
       "        vertical-align: middle;\n",
       "    }\n",
       "\n",
       "    .dataframe tbody tr th {\n",
       "        vertical-align: top;\n",
       "    }\n",
       "\n",
       "    .dataframe thead th {\n",
       "        text-align: right;\n",
       "    }\n",
       "</style>\n",
       "<table border=\"1\" class=\"dataframe\">\n",
       "  <thead>\n",
       "    <tr style=\"text-align: right;\">\n",
       "      <th></th>\n",
       "      <th>descripcion</th>\n",
       "      <th>categoria</th>\n",
       "      <th>nombre_cliente</th>\n",
       "      <th>Linea_Negocio</th>\n",
       "    </tr>\n",
       "  </thead>\n",
       "  <tbody>\n",
       "    <tr>\n",
       "      <th>0</th>\n",
       "      <td>se debe realizar la configuración de los servi...</td>\n",
       "      <td>Creación de servicios / publicación de servicios</td>\n",
       "      <td>Cartagueña de Aseo Total ESP</td>\n",
       "      <td>Geoaseo</td>\n",
       "    </tr>\n",
       "    <tr>\n",
       "      <th>1</th>\n",
       "      <td>crear servicios geoserver</td>\n",
       "      <td>Creación de servicios / publicación de servicios</td>\n",
       "      <td>Llanogas</td>\n",
       "      <td>Geolumina</td>\n",
       "    </tr>\n",
       "    <tr>\n",
       "      <th>2</th>\n",
       "      <td>crear servicios geoserver</td>\n",
       "      <td>Creación de servicios / publicación de servicios</td>\n",
       "      <td>Llanogas</td>\n",
       "      <td>Geolumina</td>\n",
       "    </tr>\n",
       "    <tr>\n",
       "      <th>3</th>\n",
       "      <td>construcción, mantenimiento y migración de la ...</td>\n",
       "      <td>Informes de reporte y mantenimiento</td>\n",
       "      <td>SIGMA Ingeniería S.A</td>\n",
       "      <td>SIGMA</td>\n",
       "    </tr>\n",
       "    <tr>\n",
       "      <th>4</th>\n",
       "      <td>publicación servicio geoserver</td>\n",
       "      <td>Creación de servicios / publicación de servicios</td>\n",
       "      <td>Llanogas</td>\n",
       "      <td>Geolumina</td>\n",
       "    </tr>\n",
       "    <tr>\n",
       "      <th>...</th>\n",
       "      <td>...</td>\n",
       "      <td>...</td>\n",
       "      <td>...</td>\n",
       "      <td>...</td>\n",
       "    </tr>\n",
       "    <tr>\n",
       "      <th>8314</th>\n",
       "      <td>cordial saludo, adjunto la carga de tickets de...</td>\n",
       "      <td>Carga de datos masiva, gestión de tickets</td>\n",
       "      <td>Veolia (antiguo Grupo Sala)</td>\n",
       "      <td>Geoaseo</td>\n",
       "    </tr>\n",
       "    <tr>\n",
       "      <th>8315</th>\n",
       "      <td>por favor actualizar las capas de macros, micr...</td>\n",
       "      <td>Informes de reporte y mantenimiento</td>\n",
       "      <td>Veolia (antiguo Grupo Sala)</td>\n",
       "      <td>Geoaseo</td>\n",
       "    </tr>\n",
       "    <tr>\n",
       "      <th>8316</th>\n",
       "      <td>modificar perfil de rioaseo</td>\n",
       "      <td>Cambiar datos por BD, Cambiar estado de OT</td>\n",
       "      <td>Rio Aseo Total ESP</td>\n",
       "      <td>Geoaseo</td>\n",
       "    </tr>\n",
       "    <tr>\n",
       "      <th>8317</th>\n",
       "      <td>creación de un usuario de consulta para la con...</td>\n",
       "      <td>Creación / inactivación de usuario</td>\n",
       "      <td>CAR Magdalena</td>\n",
       "      <td>Geoambiental</td>\n",
       "    </tr>\n",
       "    <tr>\n",
       "      <th>8318</th>\n",
       "      <td>solicito amablemente realizar el cargue de ope...</td>\n",
       "      <td>Carga de datos masiva, gestión de tickets</td>\n",
       "      <td>Veolia (antiguo Grupo Sala)</td>\n",
       "      <td>Geoaseo</td>\n",
       "    </tr>\n",
       "  </tbody>\n",
       "</table>\n",
       "<p>8319 rows × 4 columns</p>\n",
       "</div>"
      ],
      "text/plain": [
       "                                            descripcion  ... Linea_Negocio\n",
       "0     se debe realizar la configuración de los servi...  ...       Geoaseo\n",
       "1                            crear servicios geoserver   ...     Geolumina\n",
       "2                            crear servicios geoserver   ...     Geolumina\n",
       "3     construcción, mantenimiento y migración de la ...  ...         SIGMA\n",
       "4                        publicación servicio geoserver  ...     Geolumina\n",
       "...                                                 ...  ...           ...\n",
       "8314  cordial saludo, adjunto la carga de tickets de...  ...       Geoaseo\n",
       "8315  por favor actualizar las capas de macros, micr...  ...       Geoaseo\n",
       "8316                        modificar perfil de rioaseo  ...       Geoaseo\n",
       "8317  creación de un usuario de consulta para la con...  ...  Geoambiental\n",
       "8318  solicito amablemente realizar el cargue de ope...  ...       Geoaseo\n",
       "\n",
       "[8319 rows x 4 columns]"
      ]
     },
     "execution_count": 11,
     "metadata": {
      "tags": []
     },
     "output_type": "execute_result"
    }
   ],
   "source": [
    "DataSet0['descripcion'] = DataSet0['descripcion'].str.lower()\n",
    "DataSet0"
   ]
  },
  {
   "cell_type": "code",
   "execution_count": null,
   "metadata": {
    "colab": {
     "base_uri": "https://localhost:8080/",
     "height": 407
    },
    "executionInfo": {
     "elapsed": 331,
     "status": "ok",
     "timestamp": 1622568326768,
     "user": {
      "displayName": "Maria Ximena Arias Barahona",
      "photoUrl": "https://lh3.googleusercontent.com/a-/AOh14GjTqDWwbM5jN23nAH8MccUYNyBDyKC4X5vFJdlnyA=s64",
      "userId": "10381678158060334319"
     },
     "user_tz": 300
    },
    "id": "EvVfR7uFm6Fk",
    "outputId": "175710f0-4a05-465b-dce5-01fac2659573"
   },
   "outputs": [
    {
     "data": {
      "text/html": [
       "<div>\n",
       "<style scoped>\n",
       "    .dataframe tbody tr th:only-of-type {\n",
       "        vertical-align: middle;\n",
       "    }\n",
       "\n",
       "    .dataframe tbody tr th {\n",
       "        vertical-align: top;\n",
       "    }\n",
       "\n",
       "    .dataframe thead th {\n",
       "        text-align: right;\n",
       "    }\n",
       "</style>\n",
       "<table border=\"1\" class=\"dataframe\">\n",
       "  <thead>\n",
       "    <tr style=\"text-align: right;\">\n",
       "      <th></th>\n",
       "      <th>descripcion</th>\n",
       "      <th>categoria</th>\n",
       "      <th>nombre_cliente</th>\n",
       "      <th>Linea_Negocio</th>\n",
       "    </tr>\n",
       "  </thead>\n",
       "  <tbody>\n",
       "    <tr>\n",
       "      <th>0</th>\n",
       "      <td>se debe realizar la configuracion de los servi...</td>\n",
       "      <td>Creación de servicios / publicación de servicios</td>\n",
       "      <td>Cartagueña de Aseo Total ESP</td>\n",
       "      <td>Geoaseo</td>\n",
       "    </tr>\n",
       "    <tr>\n",
       "      <th>1</th>\n",
       "      <td>crear servicios geoserver</td>\n",
       "      <td>Creación de servicios / publicación de servicios</td>\n",
       "      <td>Llanogas</td>\n",
       "      <td>Geolumina</td>\n",
       "    </tr>\n",
       "    <tr>\n",
       "      <th>2</th>\n",
       "      <td>crear servicios geoserver</td>\n",
       "      <td>Creación de servicios / publicación de servicios</td>\n",
       "      <td>Llanogas</td>\n",
       "      <td>Geolumina</td>\n",
       "    </tr>\n",
       "    <tr>\n",
       "      <th>3</th>\n",
       "      <td>construccion, mantenimiento y migracion de la ...</td>\n",
       "      <td>Informes de reporte y mantenimiento</td>\n",
       "      <td>SIGMA Ingeniería S.A</td>\n",
       "      <td>SIGMA</td>\n",
       "    </tr>\n",
       "    <tr>\n",
       "      <th>4</th>\n",
       "      <td>publicacion servicio geoserver</td>\n",
       "      <td>Creación de servicios / publicación de servicios</td>\n",
       "      <td>Llanogas</td>\n",
       "      <td>Geolumina</td>\n",
       "    </tr>\n",
       "    <tr>\n",
       "      <th>...</th>\n",
       "      <td>...</td>\n",
       "      <td>...</td>\n",
       "      <td>...</td>\n",
       "      <td>...</td>\n",
       "    </tr>\n",
       "    <tr>\n",
       "      <th>8314</th>\n",
       "      <td>cordial saludo, adjunto la carga de tickets de...</td>\n",
       "      <td>Carga de datos masiva, gestión de tickets</td>\n",
       "      <td>Veolia (antiguo Grupo Sala)</td>\n",
       "      <td>Geoaseo</td>\n",
       "    </tr>\n",
       "    <tr>\n",
       "      <th>8315</th>\n",
       "      <td>por favor actualizar las capas de macros, micr...</td>\n",
       "      <td>Informes de reporte y mantenimiento</td>\n",
       "      <td>Veolia (antiguo Grupo Sala)</td>\n",
       "      <td>Geoaseo</td>\n",
       "    </tr>\n",
       "    <tr>\n",
       "      <th>8316</th>\n",
       "      <td>modificar perfil de rioaseo</td>\n",
       "      <td>Cambiar datos por BD, Cambiar estado de OT</td>\n",
       "      <td>Rio Aseo Total ESP</td>\n",
       "      <td>Geoaseo</td>\n",
       "    </tr>\n",
       "    <tr>\n",
       "      <th>8317</th>\n",
       "      <td>creacion de un usuario de consulta para la con...</td>\n",
       "      <td>Creación / inactivación de usuario</td>\n",
       "      <td>CAR Magdalena</td>\n",
       "      <td>Geoambiental</td>\n",
       "    </tr>\n",
       "    <tr>\n",
       "      <th>8318</th>\n",
       "      <td>solicito amablemente realizar el cargue de ope...</td>\n",
       "      <td>Carga de datos masiva, gestión de tickets</td>\n",
       "      <td>Veolia (antiguo Grupo Sala)</td>\n",
       "      <td>Geoaseo</td>\n",
       "    </tr>\n",
       "  </tbody>\n",
       "</table>\n",
       "<p>8319 rows × 4 columns</p>\n",
       "</div>"
      ],
      "text/plain": [
       "                                            descripcion  ... Linea_Negocio\n",
       "0     se debe realizar la configuracion de los servi...  ...       Geoaseo\n",
       "1                            crear servicios geoserver   ...     Geolumina\n",
       "2                            crear servicios geoserver   ...     Geolumina\n",
       "3     construccion, mantenimiento y migracion de la ...  ...         SIGMA\n",
       "4                        publicacion servicio geoserver  ...     Geolumina\n",
       "...                                                 ...  ...           ...\n",
       "8314  cordial saludo, adjunto la carga de tickets de...  ...       Geoaseo\n",
       "8315  por favor actualizar las capas de macros, micr...  ...       Geoaseo\n",
       "8316                        modificar perfil de rioaseo  ...       Geoaseo\n",
       "8317  creacion de un usuario de consulta para la con...  ...  Geoambiental\n",
       "8318  solicito amablemente realizar el cargue de ope...  ...       Geoaseo\n",
       "\n",
       "[8319 rows x 4 columns]"
      ]
     },
     "execution_count": 12,
     "metadata": {
      "tags": []
     },
     "output_type": "execute_result"
    }
   ],
   "source": [
    "DataSet0['descripcion'] = DataSet0['descripcion'].str.replace(u\"á\", \"a\")\n",
    "DataSet0['descripcion'] = DataSet0['descripcion'].str.replace(u\"é\", \"e\")\n",
    "DataSet0['descripcion'] = DataSet0['descripcion'].str.replace(u\"í\", \"i\")\n",
    "DataSet0['descripcion'] = DataSet0['descripcion'].str.replace(u\"ó\", \"o\")\n",
    "DataSet0['descripcion'] = DataSet0['descripcion'].str.replace(u\"ú\", \"u\")\n",
    "DataSet0['descripcion'] = DataSet0['descripcion'].str.replace(u\"ñ\", \"n\")\n",
    "DataSet0"
   ]
  },
  {
   "cell_type": "code",
   "execution_count": null,
   "metadata": {
    "colab": {
     "base_uri": "https://localhost:8080/",
     "height": 407
    },
    "executionInfo": {
     "elapsed": 355,
     "status": "ok",
     "timestamp": 1622568335807,
     "user": {
      "displayName": "Maria Ximena Arias Barahona",
      "photoUrl": "https://lh3.googleusercontent.com/a-/AOh14GjTqDWwbM5jN23nAH8MccUYNyBDyKC4X5vFJdlnyA=s64",
      "userId": "10381678158060334319"
     },
     "user_tz": 300
    },
    "id": "zpzCIJ1Qm5-F",
    "outputId": "b445e2e4-6f4f-4b44-8cc8-7fb1518af43c"
   },
   "outputs": [
    {
     "data": {
      "text/html": [
       "<div>\n",
       "<style scoped>\n",
       "    .dataframe tbody tr th:only-of-type {\n",
       "        vertical-align: middle;\n",
       "    }\n",
       "\n",
       "    .dataframe tbody tr th {\n",
       "        vertical-align: top;\n",
       "    }\n",
       "\n",
       "    .dataframe thead th {\n",
       "        text-align: right;\n",
       "    }\n",
       "</style>\n",
       "<table border=\"1\" class=\"dataframe\">\n",
       "  <thead>\n",
       "    <tr style=\"text-align: right;\">\n",
       "      <th></th>\n",
       "      <th>descripcion</th>\n",
       "      <th>categoria</th>\n",
       "      <th>nombre_cliente</th>\n",
       "      <th>Linea_Negocio</th>\n",
       "    </tr>\n",
       "  </thead>\n",
       "  <tbody>\n",
       "    <tr>\n",
       "      <th>0</th>\n",
       "      <td>se debe realizar la configuracion de los servi...</td>\n",
       "      <td>Creación de servicios / publicación de servicios</td>\n",
       "      <td>Cartagueña de Aseo Total ESP</td>\n",
       "      <td>Geoaseo</td>\n",
       "    </tr>\n",
       "    <tr>\n",
       "      <th>1</th>\n",
       "      <td>crear servicios geoserver</td>\n",
       "      <td>Creación de servicios / publicación de servicios</td>\n",
       "      <td>Llanogas</td>\n",
       "      <td>Geolumina</td>\n",
       "    </tr>\n",
       "    <tr>\n",
       "      <th>2</th>\n",
       "      <td>crear servicios geoserver</td>\n",
       "      <td>Creación de servicios / publicación de servicios</td>\n",
       "      <td>Llanogas</td>\n",
       "      <td>Geolumina</td>\n",
       "    </tr>\n",
       "    <tr>\n",
       "      <th>3</th>\n",
       "      <td>construccion, mantenimiento y migracion de la ...</td>\n",
       "      <td>Informes de reporte y mantenimiento</td>\n",
       "      <td>SIGMA Ingeniería S.A</td>\n",
       "      <td>SIGMA</td>\n",
       "    </tr>\n",
       "    <tr>\n",
       "      <th>4</th>\n",
       "      <td>publicacion servicio geoserver</td>\n",
       "      <td>Creación de servicios / publicación de servicios</td>\n",
       "      <td>Llanogas</td>\n",
       "      <td>Geolumina</td>\n",
       "    </tr>\n",
       "    <tr>\n",
       "      <th>...</th>\n",
       "      <td>...</td>\n",
       "      <td>...</td>\n",
       "      <td>...</td>\n",
       "      <td>...</td>\n",
       "    </tr>\n",
       "    <tr>\n",
       "      <th>8314</th>\n",
       "      <td>cordial saludo, adjunto la carga de tickets de...</td>\n",
       "      <td>Carga de datos masiva, gestión de tickets</td>\n",
       "      <td>Veolia (antiguo Grupo Sala)</td>\n",
       "      <td>Geoaseo</td>\n",
       "    </tr>\n",
       "    <tr>\n",
       "      <th>8315</th>\n",
       "      <td>por favor actualizar las capas de macros, micr...</td>\n",
       "      <td>Informes de reporte y mantenimiento</td>\n",
       "      <td>Veolia (antiguo Grupo Sala)</td>\n",
       "      <td>Geoaseo</td>\n",
       "    </tr>\n",
       "    <tr>\n",
       "      <th>8316</th>\n",
       "      <td>modificar perfil de rioaseo</td>\n",
       "      <td>Cambiar datos por BD, Cambiar estado de OT</td>\n",
       "      <td>Rio Aseo Total ESP</td>\n",
       "      <td>Geoaseo</td>\n",
       "    </tr>\n",
       "    <tr>\n",
       "      <th>8317</th>\n",
       "      <td>creacion de un usuario de consulta para la con...</td>\n",
       "      <td>Creación / inactivación de usuario</td>\n",
       "      <td>CAR Magdalena</td>\n",
       "      <td>Geoambiental</td>\n",
       "    </tr>\n",
       "    <tr>\n",
       "      <th>8318</th>\n",
       "      <td>solicito amablemente realizar el cargue de ope...</td>\n",
       "      <td>Carga de datos masiva, gestión de tickets</td>\n",
       "      <td>Veolia (antiguo Grupo Sala)</td>\n",
       "      <td>Geoaseo</td>\n",
       "    </tr>\n",
       "  </tbody>\n",
       "</table>\n",
       "<p>8319 rows × 4 columns</p>\n",
       "</div>"
      ],
      "text/plain": [
       "                                            descripcion  ... Linea_Negocio\n",
       "0     se debe realizar la configuracion de los servi...  ...       Geoaseo\n",
       "1                            crear servicios geoserver   ...     Geolumina\n",
       "2                            crear servicios geoserver   ...     Geolumina\n",
       "3     construccion, mantenimiento y migracion de la ...  ...         SIGMA\n",
       "4                        publicacion servicio geoserver  ...     Geolumina\n",
       "...                                                 ...  ...           ...\n",
       "8314  cordial saludo, adjunto la carga de tickets de...  ...       Geoaseo\n",
       "8315  por favor actualizar las capas de macros, micr...  ...       Geoaseo\n",
       "8316                        modificar perfil de rioaseo  ...       Geoaseo\n",
       "8317  creacion de un usuario de consulta para la con...  ...  Geoambiental\n",
       "8318  solicito amablemente realizar el cargue de ope...  ...       Geoaseo\n",
       "\n",
       "[8319 rows x 4 columns]"
      ]
     },
     "execution_count": 13,
     "metadata": {
      "tags": []
     },
     "output_type": "execute_result"
    }
   ],
   "source": [
    "punct = string.punctuation\n",
    "for c in punct:\n",
    "    DataSet0['descripcion'] = DataSet0['descripcion'].replace(c, \" \")\n",
    "# print(DataSet0['descripcion'] )\n",
    "DataSet0"
   ]
  },
  {
   "cell_type": "code",
   "execution_count": null,
   "metadata": {
    "id": "ObO6zJeuz69A"
   },
   "outputs": [],
   "source": [
    "patterns_labels = ['Configuración GPS',\n",
    "                    'Revisión de formularios',\n",
    "                    'Auditoria del sistema / interrupción completa de servicio',\n",
    "                    'Informes de reporte y mantenimiento',\n",
    "                    'Configuración de visor',\n",
    "                    'Creación / inactivación  de usuario',\n",
    "                    'Datos erróneos en reporte / actualización de reportes',\n",
    "                    'Disminución de desempeño de plataforma',\n",
    "                    'Carga de datos masiva, gestión de tickets',\n",
    "                    'No envia el backup de app móvil / no cargan datos en app',\n",
    "                    'Cambiar datos por BD, Cambiar estado de OT',\n",
    "                    'Capacitación de módulo o funcionalidad',\n",
    "                    'Creación de servicios / publicación de servicios' ]\n",
    "\n",
    "                  \n",
    "           \n",
    "patterns_colors = ['lawngreen', 'tab:orange', 'tab:purple', 'tab:olive' , 'tab:brown' , 'tab:gray',\n",
    "                  'tab:pink' ,'r', 'g', 'b', 'c' , 'm' , 'y'] # 'k' , '#6E2C00']\n",
    "\n",
    "\n",
    "correct_Pattern_labels = DataSet0['categoria'].values\n",
    "\n",
    "DataSet0 = DataSet0.drop(['tik_codigo','propietario', 'modulo', 'producto', 'ans'], axis=1)"
   ]
  },
  {
   "cell_type": "code",
   "execution_count": null,
   "metadata": {
    "colab": {
     "base_uri": "https://localhost:8080/",
     "height": 819
    },
    "executionInfo": {
     "elapsed": 811,
     "status": "ok",
     "timestamp": 1622568350717,
     "user": {
      "displayName": "Maria Ximena Arias Barahona",
      "photoUrl": "https://lh3.googleusercontent.com/a-/AOh14GjTqDWwbM5jN23nAH8MccUYNyBDyKC4X5vFJdlnyA=s64",
      "userId": "10381678158060334319"
     },
     "user_tz": 300
    },
    "id": "WZXk_9alz64k",
    "outputId": "c32e925a-edaf-4776-b2c6-296df73975da"
   },
   "outputs": [
    {
     "data": {
      "image/png": "[encoded data removed]",
      "text/plain": [
       "<Figure size 720x432 with 1 Axes>"
      ]
     },
     "metadata": {
      "needs_background": "light",
      "tags": []
     },
     "output_type": "display_data"
    }
   ],
   "source": [
    "# class distribution\n",
    "ax = DataSet0['categoria'].value_counts().plot(kind='bar', figsize=(10, 6), fontsize=14, color=patterns_colors)\n",
    "# ax = DataSet['Classes'].value_counts().plot(kind='bar', figsize=(10, 6), fontsize=13, color='#087E8B')\n",
    "ax.set_title('Classes', size=20, pad=30)\n",
    "ax.set_ylabel('Frecuencia', fontsize=14)\n",
    "\n",
    "for i in ax.patches:\n",
    "    ax.text(i.get_x() , i.get_height() + 15, str(round(i.get_height(), 5)), fontsize=13)"
   ]
  },
  {
   "cell_type": "code",
   "execution_count": null,
   "metadata": {
    "colab": {
     "base_uri": "https://localhost:8080/"
    },
    "executionInfo": {
     "elapsed": 332,
     "status": "ok",
     "timestamp": 1622568362527,
     "user": {
      "displayName": "Maria Ximena Arias Barahona",
      "photoUrl": "https://lh3.googleusercontent.com/a-/AOh14GjTqDWwbM5jN23nAH8MccUYNyBDyKC4X5vFJdlnyA=s64",
      "userId": "10381678158060334319"
     },
     "user_tz": 300
    },
    "id": "f-BuaYhW0GLP",
    "outputId": "4690b7df-fcbc-4a5a-ad11-5479d67e4b0a"
   },
   "outputs": [
    {
     "name": "stdout",
     "output_type": "stream",
     "text": [
      "DataSet category distrubution: \n",
      "\n",
      "categoria\n",
      "Auditoria del sistema / interrupción completa de servicio     383\n",
      "Cambiar datos por BD, Cambiar estado de OT                   2233\n",
      "Capacitación de módulo o funcionalidad                        303\n",
      "Carga de datos masiva, gestión de tickets                    1424\n",
      "Configuración GPS                                             518\n",
      "Configuración de visor                                        325\n",
      "Creación / inactivación de usuario                            677\n",
      "Creación de servicios / publicación de servicios              115\n",
      "Datos erróneos en reporte / actualización de reportes        1103\n",
      "Disminución de desempeño de plataforma                         78\n",
      "Informes de reporte y mantenimiento                           195\n",
      "No envia el backup de app móvil / no cargan datos en app      285\n",
      "Revisión de formularios                                       680\n",
      "dtype: int64\n"
     ]
    }
   ],
   "source": [
    "# class distribution\n",
    "print('DataSet category distrubution: \\n')\n",
    "print(DataSet0.groupby('categoria').size())"
   ]
  },
  {
   "cell_type": "code",
   "execution_count": null,
   "metadata": {
    "colab": {
     "base_uri": "https://localhost:8080/"
    },
    "executionInfo": {
     "elapsed": 354,
     "status": "ok",
     "timestamp": 1622568370647,
     "user": {
      "displayName": "Maria Ximena Arias Barahona",
      "photoUrl": "https://lh3.googleusercontent.com/a-/AOh14GjTqDWwbM5jN23nAH8MccUYNyBDyKC4X5vFJdlnyA=s64",
      "userId": "10381678158060334319"
     },
     "user_tz": 300
    },
    "id": "HERkXoCG0GHT",
    "outputId": "24b08349-7490-4411-8a83-71ea33282db3"
   },
   "outputs": [
    {
     "data": {
      "text/plain": [
       "0       se debe realizar la configuracion de los servi...\n",
       "1                              crear servicios geoserver \n",
       "2                              crear servicios geoserver \n",
       "3       construccion, mantenimiento y migracion de la ...\n",
       "4                          publicacion servicio geoserver\n",
       "                              ...                        \n",
       "8314    cordial saludo, adjunto la carga de tickets de...\n",
       "8315    por favor actualizar las capas de macros, micr...\n",
       "8316                          modificar perfil de rioaseo\n",
       "8317    creacion de un usuario de consulta para la con...\n",
       "8318    solicito amablemente realizar el cargue de ope...\n",
       "Name: descripcion, Length: 8319, dtype: object"
      ]
     },
     "execution_count": 16,
     "metadata": {
      "tags": []
     },
     "output_type": "execute_result"
    }
   ],
   "source": [
    "X = DataSet0['descripcion']\n",
    "y = DataSet0['categoria']\n",
    "\n",
    "X"
   ]
  },
  {
   "cell_type": "code",
   "execution_count": null,
   "metadata": {
    "id": "CZwFSqe40GDG"
   },
   "outputs": [],
   "source": [
    "X_train, X_test, y_train, y_test = train_test_split(X , y , test_size=0.20, random_state=42)"
   ]
  },
  {
   "cell_type": "code",
   "execution_count": null,
   "metadata": {
    "colab": {
     "base_uri": "https://localhost:8080/"
    },
    "executionInfo": {
     "elapsed": 355,
     "status": "ok",
     "timestamp": 1622568376639,
     "user": {
      "displayName": "Maria Ximena Arias Barahona",
      "photoUrl": "https://lh3.googleusercontent.com/a-/AOh14GjTqDWwbM5jN23nAH8MccUYNyBDyKC4X5vFJdlnyA=s64",
      "userId": "10381678158060334319"
     },
     "user_tz": 300
    },
    "id": "hTZIEKjG0NHd",
    "outputId": "dd0a866f-a944-4540-a53d-a68f9d25858f"
   },
   "outputs": [
    {
     "name": "stdout",
     "output_type": "stream",
     "text": [
      "(8319,) (8319,) (6655,) (6655,) (1664,) (1664,)\n"
     ]
    }
   ],
   "source": [
    "print(X.shape,y.shape,X_train.shape,y_train.shape,X_test.shape,y_test.shape)"
   ]
  },
  {
   "cell_type": "code",
   "execution_count": null,
   "metadata": {
    "colab": {
     "base_uri": "https://localhost:8080/"
    },
    "executionInfo": {
     "elapsed": 1122,
     "status": "ok",
     "timestamp": 1622568420135,
     "user": {
      "displayName": "Maria Ximena Arias Barahona",
      "photoUrl": "https://lh3.googleusercontent.com/a-/AOh14GjTqDWwbM5jN23nAH8MccUYNyBDyKC4X5vFJdlnyA=s64",
      "userId": "10381678158060334319"
     },
     "user_tz": 300
    },
    "id": "is5et_fonRJB",
    "outputId": "c5b9d931-2c01-4077-f668-2c97bb3affc1"
   },
   "outputs": [
    {
     "name": "stdout",
     "output_type": "stream",
     "text": [
      "[nltk_data] Downloading package stopwords to /root/nltk_data...\n",
      "[nltk_data]   Unzipping corpora/stopwords.zip.\n"
     ]
    },
    {
     "data": {
      "text/plain": [
       "True"
      ]
     },
     "execution_count": 21,
     "metadata": {
      "tags": []
     },
     "output_type": "execute_result"
    }
   ],
   "source": [
    "import nltk\n",
    "nltk.download('stopwords')"
   ]
  },
  {
   "cell_type": "code",
   "execution_count": null,
   "metadata": {
    "colab": {
     "base_uri": "https://localhost:8080/"
    },
    "executionInfo": {
     "elapsed": 882,
     "status": "ok",
     "timestamp": 1622568424189,
     "user": {
      "displayName": "Maria Ximena Arias Barahona",
      "photoUrl": "https://lh3.googleusercontent.com/a-/AOh14GjTqDWwbM5jN23nAH8MccUYNyBDyKC4X5vFJdlnyA=s64",
      "userId": "10381678158060334319"
     },
     "user_tz": 300
    },
    "id": "ECpq_3pA0M9W",
    "outputId": "89d8b893-6110-4080-af32-fdeaaf2e70a8"
   },
   "outputs": [
    {
     "name": "stdout",
     "output_type": "stream",
     "text": [
      "(6655, 3637) (1664, 3637)\n"
     ]
    }
   ],
   "source": [
    "vectorizer = TfidfVectorizer(sublinear_tf=True, min_df=5, norm='l2', encoding='latin-1', ngram_range=(1, 2), stop_words=stopwords.words(\"spanish\"))\n",
    "X_train = vectorizer.fit_transform(X_train)\n",
    "X_test = vectorizer.transform(X_test)\n",
    "print(X_train.shape, X_test.shape)"
   ]
  },
  {
   "cell_type": "code",
   "execution_count": null,
   "metadata": {
    "colab": {
     "base_uri": "https://localhost:8080/"
    },
    "executionInfo": {
     "elapsed": 393,
     "status": "ok",
     "timestamp": 1622568429212,
     "user": {
      "displayName": "Maria Ximena Arias Barahona",
      "photoUrl": "https://lh3.googleusercontent.com/a-/AOh14GjTqDWwbM5jN23nAH8MccUYNyBDyKC4X5vFJdlnyA=s64",
      "userId": "10381678158060334319"
     },
     "user_tz": 300
    },
    "id": "RdEmqyKrz60T",
    "outputId": "a3e0eb91-f137-47f7-ce49-66d5a096200e"
   },
   "outputs": [
    {
     "name": "stdout",
     "output_type": "stream",
     "text": [
      "Labels: Auditoria del sistema / interrupción completa de servicio, Cambiar datos por BD, Cambiar estado de OT, Capacitación de módulo o funcionalidad, Carga de datos masiva, gestión de tickets, Configuración GPS, Configuración de visor, Creación / inactivación de usuario, Creación de servicios / publicación de servicios, Datos erróneos en reporte / actualización de reportes, Disminución de desempeño de plataforma, Informes de reporte y mantenimiento, No envia el backup de app móvil / no cargan datos en app, Revisión de formularios\n"
     ]
    }
   ],
   "source": [
    "classes = np.unique(y)\n",
    "print(f'Labels: {\", \".join(classes)}')"
   ]
  },
  {
   "cell_type": "markdown",
   "metadata": {
    "id": "aikAoLOx1Nx1"
   },
   "source": [
    "## AUTO SKLEARN WITHOUT DATA BALANCING"
   ]
  },
  {
   "cell_type": "code",
   "execution_count": null,
   "metadata": {
    "colab": {
     "base_uri": "https://localhost:8080/"
    },
    "executionInfo": {
     "elapsed": 361464,
     "status": "ok",
     "timestamp": 1622568793820,
     "user": {
      "displayName": "Maria Ximena Arias Barahona",
      "photoUrl": "https://lh3.googleusercontent.com/a-/AOh14GjTqDWwbM5jN23nAH8MccUYNyBDyKC4X5vFJdlnyA=s64",
      "userId": "10381678158060334319"
     },
     "user_tz": 300
    },
    "id": "DIC2MLK4QkVP",
    "outputId": "b4a3832c-3c44-4588-b302-060b91a27971"
   },
   "outputs": [
    {
     "name": "stdout",
     "output_type": "stream",
     "text": [
      "[WARNING] [2021-06-01 17:27:17,376:Client-AutoMLSMBO(1)::999705f4-c2fe-11eb-8202-0242ac1c0002] Configuration 446 not found\n",
      "[WARNING] [2021-06-01 17:27:17,377:Client-AutoMLSMBO(1)::999705f4-c2fe-11eb-8202-0242ac1c0002] Configuration 484 not found\n",
      "[WARNING] [2021-06-01 17:27:17,377:Client-AutoMLSMBO(1)::999705f4-c2fe-11eb-8202-0242ac1c0002] Configuration 86 not found\n",
      "[WARNING] [2021-06-01 17:27:17,377:Client-AutoMLSMBO(1)::999705f4-c2fe-11eb-8202-0242ac1c0002] Configuration 503 not found\n",
      "[WARNING] [2021-06-01 17:27:17,377:Client-AutoMLSMBO(1)::999705f4-c2fe-11eb-8202-0242ac1c0002] Configuration 376 not found\n",
      "[WARNING] [2021-06-01 17:27:17,377:Client-AutoMLSMBO(1)::999705f4-c2fe-11eb-8202-0242ac1c0002] Configuration 556 not found\n",
      "[WARNING] [2021-06-01 17:27:17,378:Client-AutoMLSMBO(1)::999705f4-c2fe-11eb-8202-0242ac1c0002] Configuration 467 not found\n",
      "[WARNING] [2021-06-01 17:27:17,378:Client-AutoMLSMBO(1)::999705f4-c2fe-11eb-8202-0242ac1c0002] Configuration 540 not found\n",
      "[WARNING] [2021-06-01 17:27:17,378:Client-AutoMLSMBO(1)::999705f4-c2fe-11eb-8202-0242ac1c0002] Configuration 482 not found\n",
      "[WARNING] [2021-06-01 17:27:17,378:Client-AutoMLSMBO(1)::999705f4-c2fe-11eb-8202-0242ac1c0002] Configuration 14 not found\n",
      "[WARNING] [2021-06-01 17:27:17,378:Client-AutoMLSMBO(1)::999705f4-c2fe-11eb-8202-0242ac1c0002] Configuration 135 not found\n",
      "[WARNING] [2021-06-01 17:27:17,379:Client-AutoMLSMBO(1)::999705f4-c2fe-11eb-8202-0242ac1c0002] Configuration 273 not found\n",
      "[WARNING] [2021-06-01 17:27:17,380:Client-AutoMLSMBO(1)::999705f4-c2fe-11eb-8202-0242ac1c0002] Configuration 352 not found\n",
      "[WARNING] [2021-06-01 17:27:17,380:Client-AutoMLSMBO(1)::999705f4-c2fe-11eb-8202-0242ac1c0002] Configuration 139 not found\n",
      "[WARNING] [2021-06-01 17:27:17,380:Client-AutoMLSMBO(1)::999705f4-c2fe-11eb-8202-0242ac1c0002] Configuration 406 not found\n",
      "[WARNING] [2021-06-01 17:27:17,381:Client-AutoMLSMBO(1)::999705f4-c2fe-11eb-8202-0242ac1c0002] Configuration 192 not found\n",
      "[WARNING] [2021-06-01 17:27:17,381:Client-AutoMLSMBO(1)::999705f4-c2fe-11eb-8202-0242ac1c0002] Configuration 144 not found\n",
      "[WARNING] [2021-06-01 17:27:17,382:Client-AutoMLSMBO(1)::999705f4-c2fe-11eb-8202-0242ac1c0002] Configuration 355 not found\n",
      "[WARNING] [2021-06-01 17:27:17,383:Client-AutoMLSMBO(1)::999705f4-c2fe-11eb-8202-0242ac1c0002] Configuration 102 not found\n",
      "[WARNING] [2021-06-01 17:27:17,383:Client-AutoMLSMBO(1)::999705f4-c2fe-11eb-8202-0242ac1c0002] Configuration 327 not found\n",
      "[WARNING] [2021-06-01 17:27:17,383:Client-AutoMLSMBO(1)::999705f4-c2fe-11eb-8202-0242ac1c0002] Configuration 65 not found\n",
      "[WARNING] [2021-06-01 17:27:17,384:Client-AutoMLSMBO(1)::999705f4-c2fe-11eb-8202-0242ac1c0002] Configuration 420 not found\n",
      "[WARNING] [2021-06-01 17:27:17,384:Client-AutoMLSMBO(1)::999705f4-c2fe-11eb-8202-0242ac1c0002] Configuration 382 not found\n",
      "[WARNING] [2021-06-01 17:27:17,384:Client-AutoMLSMBO(1)::999705f4-c2fe-11eb-8202-0242ac1c0002] Configuration 26 not found\n",
      "[WARNING] [2021-06-01 17:27:17,384:Client-AutoMLSMBO(1)::999705f4-c2fe-11eb-8202-0242ac1c0002] Configuration 487 not found\n",
      "[WARNING] [2021-06-01 17:27:17,385:Client-AutoMLSMBO(1)::999705f4-c2fe-11eb-8202-0242ac1c0002] Configuration 8 not found\n",
      "[WARNING] [2021-06-01 17:27:17,385:Client-AutoMLSMBO(1)::999705f4-c2fe-11eb-8202-0242ac1c0002] Configuration 127 not found\n",
      "[WARNING] [2021-06-01 17:27:17,385:Client-AutoMLSMBO(1)::999705f4-c2fe-11eb-8202-0242ac1c0002] Configuration 141 not found\n",
      "[WARNING] [2021-06-01 17:27:17,385:Client-AutoMLSMBO(1)::999705f4-c2fe-11eb-8202-0242ac1c0002] Configuration 295 not found\n",
      "[WARNING] [2021-06-01 17:27:17,386:Client-AutoMLSMBO(1)::999705f4-c2fe-11eb-8202-0242ac1c0002] Configuration 301 not found\n",
      "[WARNING] [2021-06-01 17:27:17,386:Client-AutoMLSMBO(1)::999705f4-c2fe-11eb-8202-0242ac1c0002] Configuration 473 not found\n",
      "[WARNING] [2021-06-01 17:27:17,386:Client-AutoMLSMBO(1)::999705f4-c2fe-11eb-8202-0242ac1c0002] Configuration 415 not found\n",
      "[WARNING] [2021-06-01 17:27:17,386:Client-AutoMLSMBO(1)::999705f4-c2fe-11eb-8202-0242ac1c0002] Configuration 187 not found\n",
      "[WARNING] [2021-06-01 17:27:17,387:Client-AutoMLSMBO(1)::999705f4-c2fe-11eb-8202-0242ac1c0002] Configuration 516 not found\n",
      "[WARNING] [2021-06-01 17:27:17,387:Client-AutoMLSMBO(1)::999705f4-c2fe-11eb-8202-0242ac1c0002] Configuration 545 not found\n",
      "[WARNING] [2021-06-01 17:27:17,387:Client-AutoMLSMBO(1)::999705f4-c2fe-11eb-8202-0242ac1c0002] Configuration 204 not found\n",
      "[WARNING] [2021-06-01 17:27:17,387:Client-AutoMLSMBO(1)::999705f4-c2fe-11eb-8202-0242ac1c0002] Configuration 7 not found\n",
      "[WARNING] [2021-06-01 17:27:17,387:Client-AutoMLSMBO(1)::999705f4-c2fe-11eb-8202-0242ac1c0002] Configuration 523 not found\n",
      "[WARNING] [2021-06-01 17:27:17,388:Client-AutoMLSMBO(1)::999705f4-c2fe-11eb-8202-0242ac1c0002] Configuration 527 not found\n",
      "[WARNING] [2021-06-01 17:27:17,388:Client-AutoMLSMBO(1)::999705f4-c2fe-11eb-8202-0242ac1c0002] Configuration 1 not found\n",
      "[WARNING] [2021-06-01 17:27:17,388:Client-AutoMLSMBO(1)::999705f4-c2fe-11eb-8202-0242ac1c0002] Configuration 146 not found\n",
      "[WARNING] [2021-06-01 17:27:17,389:Client-AutoMLSMBO(1)::999705f4-c2fe-11eb-8202-0242ac1c0002] Configuration 360 not found\n",
      "[WARNING] [2021-06-01 17:27:17,389:Client-AutoMLSMBO(1)::999705f4-c2fe-11eb-8202-0242ac1c0002] Configuration 105 not found\n",
      "[WARNING] [2021-06-01 17:27:17,389:Client-AutoMLSMBO(1)::999705f4-c2fe-11eb-8202-0242ac1c0002] Configuration 385 not found\n",
      "[WARNING] [2021-06-01 17:27:17,389:Client-AutoMLSMBO(1)::999705f4-c2fe-11eb-8202-0242ac1c0002] Configuration 258 not found\n",
      "[WARNING] [2021-06-01 17:27:17,390:Client-AutoMLSMBO(1)::999705f4-c2fe-11eb-8202-0242ac1c0002] Configuration 554 not found\n",
      "[WARNING] [2021-06-01 17:27:17,390:Client-AutoMLSMBO(1)::999705f4-c2fe-11eb-8202-0242ac1c0002] Configuration 176 not found\n",
      "[WARNING] [2021-06-01 17:27:17,390:Client-AutoMLSMBO(1)::999705f4-c2fe-11eb-8202-0242ac1c0002] Configuration 530 not found\n",
      "[WARNING] [2021-06-01 17:27:17,390:Client-AutoMLSMBO(1)::999705f4-c2fe-11eb-8202-0242ac1c0002] Configuration 449 not found\n",
      "[WARNING] [2021-06-01 17:27:17,390:Client-AutoMLSMBO(1)::999705f4-c2fe-11eb-8202-0242ac1c0002] Configuration 160 not found\n",
      "[WARNING] [2021-06-01 17:27:17,391:Client-AutoMLSMBO(1)::999705f4-c2fe-11eb-8202-0242ac1c0002] Configuration 33 not found\n",
      "[WARNING] [2021-06-01 17:27:17,392:Client-AutoMLSMBO(1)::999705f4-c2fe-11eb-8202-0242ac1c0002] Configuration 495 not found\n",
      "[WARNING] [2021-06-01 17:27:17,392:Client-AutoMLSMBO(1)::999705f4-c2fe-11eb-8202-0242ac1c0002] Configuration 511 not found\n",
      "[WARNING] [2021-06-01 17:27:17,392:Client-AutoMLSMBO(1)::999705f4-c2fe-11eb-8202-0242ac1c0002] Configuration 365 not found\n",
      "[WARNING] [2021-06-01 17:27:17,392:Client-AutoMLSMBO(1)::999705f4-c2fe-11eb-8202-0242ac1c0002] Configuration 62 not found\n",
      "[WARNING] [2021-06-01 17:27:17,392:Client-AutoMLSMBO(1)::999705f4-c2fe-11eb-8202-0242ac1c0002] Configuration 313 not found\n",
      "[WARNING] [2021-06-01 17:27:17,393:Client-AutoMLSMBO(1)::999705f4-c2fe-11eb-8202-0242ac1c0002] Configuration 271 not found\n",
      "[WARNING] [2021-06-01 17:27:17,393:Client-AutoMLSMBO(1)::999705f4-c2fe-11eb-8202-0242ac1c0002] Configuration 279 not found\n",
      "[WARNING] [2021-06-01 17:27:17,394:Client-AutoMLSMBO(1)::999705f4-c2fe-11eb-8202-0242ac1c0002] Configuration 225 not found\n",
      "[WARNING] [2021-06-01 17:27:17,396:Client-AutoMLSMBO(1)::999705f4-c2fe-11eb-8202-0242ac1c0002] Configuration 463 not found\n",
      "[WARNING] [2021-06-01 17:27:17,396:Client-AutoMLSMBO(1)::999705f4-c2fe-11eb-8202-0242ac1c0002] Configuration 50 not found\n",
      "[WARNING] [2021-06-01 17:27:17,397:Client-AutoMLSMBO(1)::999705f4-c2fe-11eb-8202-0242ac1c0002] Configuration 334 not found\n",
      "[WARNING] [2021-06-01 17:27:17,397:Client-AutoMLSMBO(1)::999705f4-c2fe-11eb-8202-0242ac1c0002] Configuration 528 not found\n",
      "[WARNING] [2021-06-01 17:27:17,397:Client-AutoMLSMBO(1)::999705f4-c2fe-11eb-8202-0242ac1c0002] Configuration 476 not found\n",
      "[WARNING] [2021-06-01 17:27:17,397:Client-AutoMLSMBO(1)::999705f4-c2fe-11eb-8202-0242ac1c0002] Configuration 534 not found\n",
      "[WARNING] [2021-06-01 17:27:17,399:Client-AutoMLSMBO(1)::999705f4-c2fe-11eb-8202-0242ac1c0002] Configuration 113 not found\n",
      "[WARNING] [2021-06-01 17:27:17,400:Client-AutoMLSMBO(1)::999705f4-c2fe-11eb-8202-0242ac1c0002] Configuration 549 not found\n",
      "[WARNING] [2021-06-01 17:27:17,400:Client-AutoMLSMBO(1)::999705f4-c2fe-11eb-8202-0242ac1c0002] Configuration 499 not found\n",
      "[WARNING] [2021-06-01 17:27:17,400:Client-AutoMLSMBO(1)::999705f4-c2fe-11eb-8202-0242ac1c0002] Configuration 44 not found\n",
      "[WARNING] [2021-06-01 17:27:17,400:Client-AutoMLSMBO(1)::999705f4-c2fe-11eb-8202-0242ac1c0002] Configuration 217 not found\n",
      "[WARNING] [2021-06-01 17:27:17,401:Client-AutoMLSMBO(1)::999705f4-c2fe-11eb-8202-0242ac1c0002] Configuration 231 not found\n",
      "[WARNING] [2021-06-01 17:27:17,401:Client-AutoMLSMBO(1)::999705f4-c2fe-11eb-8202-0242ac1c0002] Configuration 98 not found\n",
      "[WARNING] [2021-06-01 17:27:17,402:Client-AutoMLSMBO(1)::999705f4-c2fe-11eb-8202-0242ac1c0002] Configuration 297 not found\n",
      "[WARNING] [2021-06-01 17:27:17,402:Client-AutoMLSMBO(1)::999705f4-c2fe-11eb-8202-0242ac1c0002] Configuration 168 not found\n",
      "[WARNING] [2021-06-01 17:27:17,402:Client-AutoMLSMBO(1)::999705f4-c2fe-11eb-8202-0242ac1c0002] Configuration 48 not found\n",
      "[WARNING] [2021-06-01 17:27:17,404:Client-AutoMLSMBO(1)::999705f4-c2fe-11eb-8202-0242ac1c0002] Configuration 20 not found\n",
      "[WARNING] [2021-06-01 17:27:17,404:Client-AutoMLSMBO(1)::999705f4-c2fe-11eb-8202-0242ac1c0002] Configuration 505 not found\n",
      "[WARNING] [2021-06-01 17:27:17,404:Client-AutoMLSMBO(1)::999705f4-c2fe-11eb-8202-0242ac1c0002] Configuration 116 not found\n",
      "auto-sklearn results:\n",
      "  Dataset name: 999705f4-c2fe-11eb-8202-0242ac1c0002\n",
      "  Metric: accuracy\n",
      "  Best validation score: 0.775603\n",
      "  Number of target algorithm runs: 9\n",
      "  Number of successful target algorithm runs: 4\n",
      "  Number of crashed target algorithm runs: 0\n",
      "  Number of target algorithms that exceeded the time limit: 5\n",
      "  Number of target algorithms that exceeded the memory limit: 0\n",
      "\n"
     ]
    },
    {
     "data": {
      "text/plain": [
       "0.7752403846153846"
      ]
     },
     "execution_count": 24,
     "metadata": {
      "tags": []
     },
     "output_type": "execute_result"
    }
   ],
   "source": [
    "AutoMLmodel = AutoSklearnClassifier(time_left_for_this_task=6*60,\n",
    "                              per_run_time_limit=60,\n",
    "                              include_estimators=[\"random_forest\",\"libsvm_svc\",\"mlp\"]\n",
    "                              #include_estimators=[\"mlp\"]\n",
    "                              )\n",
    "\n",
    "AutoMLmodel.fit(X_train, y_train)\n",
    "\n",
    "print(AutoMLmodel.sprint_statistics())\n",
    "\n",
    "AutoMLmodel.score(X_test,y_test)"
   ]
  },
  {
   "cell_type": "code",
   "execution_count": null,
   "metadata": {
    "colab": {
     "base_uri": "https://localhost:8080/"
    },
    "executionInfo": {
     "elapsed": 411,
     "status": "ok",
     "timestamp": 1622568966153,
     "user": {
      "displayName": "Maria Ximena Arias Barahona",
      "photoUrl": "https://lh3.googleusercontent.com/a-/AOh14GjTqDWwbM5jN23nAH8MccUYNyBDyKC4X5vFJdlnyA=s64",
      "userId": "10381678158060334319"
     },
     "user_tz": 300
    },
    "id": "n6Qr5lcaQkS8",
    "outputId": "98a0ce05-6909-447b-a558-324674ee60bd"
   },
   "outputs": [
    {
     "name": "stdout",
     "output_type": "stream",
     "text": [
      "[(0.740000, SimpleClassificationPipeline({'balancing:strategy': 'weighting', 'classifier:__choice__': 'random_forest', 'data_preprocessing:categorical_transformer:categorical_encoding:__choice__': 'no_encoding', 'data_preprocessing:categorical_transformer:category_coalescence:__choice__': 'minority_coalescer', 'data_preprocessing:numerical_transformer:imputation:strategy': 'most_frequent', 'data_preprocessing:numerical_transformer:rescaling:__choice__': 'quantile_transformer', 'feature_preprocessor:__choice__': 'no_preprocessing', 'classifier:random_forest:bootstrap': 'False', 'classifier:random_forest:criterion': 'gini', 'classifier:random_forest:max_depth': 'None', 'classifier:random_forest:max_features': 0.4825984303333078, 'classifier:random_forest:max_leaf_nodes': 'None', 'classifier:random_forest:min_impurity_decrease': 0.0, 'classifier:random_forest:min_samples_leaf': 1, 'classifier:random_forest:min_samples_split': 2, 'classifier:random_forest:min_weight_fraction_leaf': 0.0, 'data_preprocessing:categorical_transformer:category_coalescence:minority_coalescer:minimum_fraction': 0.0028041211806575195, 'data_preprocessing:numerical_transformer:rescaling:quantile_transformer:n_quantiles': 1060, 'data_preprocessing:numerical_transformer:rescaling:quantile_transformer:output_distribution': 'uniform'},\n",
      "dataset_properties={\n",
      "  'task': 2,\n",
      "  'sparse': True,\n",
      "  'multilabel': False,\n",
      "  'multiclass': True,\n",
      "  'target_type': 'classification',\n",
      "  'signed': False})),\n",
      "(0.140000, SimpleClassificationPipeline({'balancing:strategy': 'none', 'classifier:__choice__': 'mlp', 'data_preprocessing:categorical_transformer:categorical_encoding:__choice__': 'no_encoding', 'data_preprocessing:categorical_transformer:category_coalescence:__choice__': 'no_coalescense', 'data_preprocessing:numerical_transformer:imputation:strategy': 'median', 'data_preprocessing:numerical_transformer:rescaling:__choice__': 'standardize', 'feature_preprocessor:__choice__': 'liblinear_svc_preprocessor', 'classifier:mlp:activation': 'tanh', 'classifier:mlp:alpha': 3.198483470889531e-06, 'classifier:mlp:batch_size': 'auto', 'classifier:mlp:beta_1': 0.9, 'classifier:mlp:beta_2': 0.999, 'classifier:mlp:early_stopping': 'train', 'classifier:mlp:epsilon': 1e-08, 'classifier:mlp:hidden_layer_depth': 2, 'classifier:mlp:learning_rate_init': 0.006604847357173181, 'classifier:mlp:n_iter_no_change': 32, 'classifier:mlp:num_nodes_per_layer': 24, 'classifier:mlp:shuffle': 'True', 'classifier:mlp:solver': 'adam', 'classifier:mlp:tol': 0.0001, 'feature_preprocessor:liblinear_svc_preprocessor:C': 0.6755226057791226, 'feature_preprocessor:liblinear_svc_preprocessor:dual': 'False', 'feature_preprocessor:liblinear_svc_preprocessor:fit_intercept': 'True', 'feature_preprocessor:liblinear_svc_preprocessor:intercept_scaling': 1, 'feature_preprocessor:liblinear_svc_preprocessor:loss': 'squared_hinge', 'feature_preprocessor:liblinear_svc_preprocessor:multi_class': 'ovr', 'feature_preprocessor:liblinear_svc_preprocessor:penalty': 'l1', 'feature_preprocessor:liblinear_svc_preprocessor:tol': 0.00014091021190100242},\n",
      "dataset_properties={\n",
      "  'task': 2,\n",
      "  'sparse': True,\n",
      "  'multilabel': False,\n",
      "  'multiclass': True,\n",
      "  'target_type': 'classification',\n",
      "  'signed': False})),\n",
      "(0.120000, SimpleClassificationPipeline({'balancing:strategy': 'none', 'classifier:__choice__': 'random_forest', 'data_preprocessing:categorical_transformer:categorical_encoding:__choice__': 'one_hot_encoding', 'data_preprocessing:categorical_transformer:category_coalescence:__choice__': 'minority_coalescer', 'data_preprocessing:numerical_transformer:imputation:strategy': 'mean', 'data_preprocessing:numerical_transformer:rescaling:__choice__': 'standardize', 'feature_preprocessor:__choice__': 'no_preprocessing', 'classifier:random_forest:bootstrap': 'True', 'classifier:random_forest:criterion': 'gini', 'classifier:random_forest:max_depth': 'None', 'classifier:random_forest:max_features': 0.5, 'classifier:random_forest:max_leaf_nodes': 'None', 'classifier:random_forest:min_impurity_decrease': 0.0, 'classifier:random_forest:min_samples_leaf': 1, 'classifier:random_forest:min_samples_split': 2, 'classifier:random_forest:min_weight_fraction_leaf': 0.0, 'data_preprocessing:categorical_transformer:category_coalescence:minority_coalescer:minimum_fraction': 0.01},\n",
      "dataset_properties={\n",
      "  'task': 2,\n",
      "  'sparse': True,\n",
      "  'multilabel': False,\n",
      "  'multiclass': True,\n",
      "  'target_type': 'classification',\n",
      "  'signed': False})),\n",
      "]\n"
     ]
    }
   ],
   "source": [
    "print(AutoMLmodel.show_models())"
   ]
  },
  {
   "cell_type": "code",
   "execution_count": null,
   "metadata": {
    "colab": {
     "base_uri": "https://localhost:8080/"
    },
    "executionInfo": {
     "elapsed": 608,
     "status": "ok",
     "timestamp": 1622568969979,
     "user": {
      "displayName": "Maria Ximena Arias Barahona",
      "photoUrl": "https://lh3.googleusercontent.com/a-/AOh14GjTqDWwbM5jN23nAH8MccUYNyBDyKC4X5vFJdlnyA=s64",
      "userId": "10381678158060334319"
     },
     "user_tz": 300
    },
    "id": "pc6U1lHeQkRD",
    "outputId": "f8e58b84-c140-4080-fbfe-4a581f8df911"
   },
   "outputs": [
    {
     "data": {
      "text/plain": [
       "{'balancing:strategy': 'weighting',\n",
       " 'classifier:__choice__': 'random_forest',\n",
       " 'classifier:random_forest:bootstrap': 'False',\n",
       " 'classifier:random_forest:criterion': 'gini',\n",
       " 'classifier:random_forest:max_depth': 'None',\n",
       " 'classifier:random_forest:max_features': 0.4825984303333078,\n",
       " 'classifier:random_forest:max_leaf_nodes': 'None',\n",
       " 'classifier:random_forest:min_impurity_decrease': 0.0,\n",
       " 'classifier:random_forest:min_samples_leaf': 1,\n",
       " 'classifier:random_forest:min_samples_split': 2,\n",
       " 'classifier:random_forest:min_weight_fraction_leaf': 0.0,\n",
       " 'data_preprocessing:categorical_transformer:categorical_encoding:__choice__': 'no_encoding',\n",
       " 'data_preprocessing:categorical_transformer:category_coalescence:__choice__': 'minority_coalescer',\n",
       " 'data_preprocessing:categorical_transformer:category_coalescence:minority_coalescer:minimum_fraction': 0.0028041211806575195,\n",
       " 'data_preprocessing:numerical_transformer:imputation:strategy': 'most_frequent',\n",
       " 'data_preprocessing:numerical_transformer:rescaling:__choice__': 'quantile_transformer',\n",
       " 'data_preprocessing:numerical_transformer:rescaling:quantile_transformer:n_quantiles': 1060,\n",
       " 'data_preprocessing:numerical_transformer:rescaling:quantile_transformer:output_distribution': 'uniform',\n",
       " 'feature_preprocessor:__choice__': 'no_preprocessing'}"
      ]
     },
     "execution_count": 26,
     "metadata": {
      "tags": []
     },
     "output_type": "execute_result"
    }
   ],
   "source": [
    "AutoMLmodel.cv_results_['params'][np.argmax(AutoMLmodel.cv_results_['mean_test_score'])]"
   ]
  },
  {
   "cell_type": "code",
   "execution_count": null,
   "metadata": {
    "colab": {
     "base_uri": "https://localhost:8080/",
     "height": 441
    },
    "executionInfo": {
     "elapsed": 2355,
     "status": "ok",
     "timestamp": 1622568978233,
     "user": {
      "displayName": "Maria Ximena Arias Barahona",
      "photoUrl": "https://lh3.googleusercontent.com/a-/AOh14GjTqDWwbM5jN23nAH8MccUYNyBDyKC4X5vFJdlnyA=s64",
      "userId": "10381678158060334319"
     },
     "user_tz": 300
    },
    "id": "wPfALpEtpoae",
    "outputId": "30cb5ce2-d451-454e-d38c-c17c658cbc9c"
   },
   "outputs": [
    {
     "data": {
      "image/png": "[encoded data removed]",
      "text/plain": [
       "<Figure size 432x432 with 1 Axes>"
      ]
     },
     "metadata": {
      "needs_background": "light",
      "tags": []
     },
     "output_type": "display_data"
    }
   ],
   "source": [
    "y_pred = AutoMLmodel.predict(X_test)\n",
    "matriz = confusion_matrix(y_test,y_pred)\n",
    "\n",
    "plot_confusion_matrix(conf_mat=matriz, figsize=(6,6), show_normed=False)\n",
    "plt.tight_layout()"
   ]
  },
  {
   "cell_type": "code",
   "execution_count": null,
   "metadata": {
    "colab": {
     "base_uri": "https://localhost:8080/"
    },
    "executionInfo": {
     "elapsed": 348,
     "status": "ok",
     "timestamp": 1622568982037,
     "user": {
      "displayName": "Maria Ximena Arias Barahona",
      "photoUrl": "https://lh3.googleusercontent.com/a-/AOh14GjTqDWwbM5jN23nAH8MccUYNyBDyKC4X5vFJdlnyA=s64",
      "userId": "10381678158060334319"
     },
     "user_tz": 300
    },
    "id": "3B3ixQnYQkKo",
    "outputId": "527bf537-fa74-4204-933e-bac585752097"
   },
   "outputs": [
    {
     "name": "stdout",
     "output_type": "stream",
     "text": [
      "Accuracy: 0.7752403846153846\n",
      "F1 score: 0.7718898991119425\n",
      "Recall: 0.7752403846153846\n",
      "Precision: 0.7767098341276344\n",
      "\n",
      " clasification report:\n",
      "                                                            precision    recall  f1-score   support\n",
      "\n",
      "Auditoria del sistema / interrupción completa de servicio       0.83      0.81      0.82        88\n",
      "               Cambiar datos por BD, Cambiar estado de OT       0.73      0.83      0.77       457\n",
      "                   Capacitación de módulo o funcionalidad       0.84      0.73      0.78        52\n",
      "                Carga de datos masiva, gestión de tickets       0.89      0.84      0.86       287\n",
      "                                        Configuración GPS       0.82      0.92      0.87       105\n",
      "                                   Configuración de visor       0.60      0.62      0.61        65\n",
      "                       Creación / inactivación de usuario       0.83      0.86      0.84       141\n",
      "         Creación de servicios / publicación de servicios       0.57      0.81      0.67        26\n",
      "    Datos erróneos en reporte / actualización de reportes       0.79      0.73      0.76       210\n",
      "                   Disminución de desempeño de plataforma       0.56      0.26      0.36        19\n",
      "                      Informes de reporte y mantenimiento       0.79      0.79      0.79        34\n",
      " No envia el backup de app móvil / no cargan datos en app       0.69      0.45      0.54        56\n",
      "                                  Revisión de formularios       0.73      0.57      0.64       124\n",
      "\n",
      "                                                 accuracy                           0.78      1664\n",
      "                                                macro avg       0.74      0.71      0.72      1664\n",
      "                                             weighted avg       0.78      0.78      0.77      1664\n",
      "\n"
     ]
    }
   ],
   "source": [
    "print ('Accuracy:', accuracy_score(y_test, y_pred))\n",
    "print ('F1 score:', f1_score(y_test, y_pred,average='weighted'))\n",
    "print ('Recall:', recall_score(y_test, y_pred,\n",
    "                              average='weighted'))\n",
    "print ('Precision:', precision_score(y_test, y_pred,\n",
    "                                    average='weighted'))\n",
    "print ('\\n clasification report:\\n', classification_report(y_test, y_pred))\n",
    "\n",
    "plt.show()"
   ]
  },
  {
   "cell_type": "markdown",
   "metadata": {
    "id": "bpKeK77E1W2p"
   },
   "source": [
    "## AUTO SKLEARN WITH DATA BALANCING THROUGH SMOTE "
   ]
  },
  {
   "cell_type": "code",
   "execution_count": null,
   "metadata": {
    "colab": {
     "base_uri": "https://localhost:8080/"
    },
    "executionInfo": {
     "elapsed": 4232,
     "status": "ok",
     "timestamp": 1622568992473,
     "user": {
      "displayName": "Maria Ximena Arias Barahona",
      "photoUrl": "https://lh3.googleusercontent.com/a-/AOh14GjTqDWwbM5jN23nAH8MccUYNyBDyKC4X5vFJdlnyA=s64",
      "userId": "10381678158060334319"
     },
     "user_tz": 300
    },
    "id": "XDUa0CFd38sL",
    "outputId": "58d5e72b-d145-4f7b-c2d2-58e661cb6b80"
   },
   "outputs": [
    {
     "name": "stdout",
     "output_type": "stream",
     "text": [
      "Collecting imbalanced-learn\n",
      "\u001b[?25l  Downloading https://files.pythonhosted.org/packages/80/98/dc784205a7e3034e84d41ac4781660c67ad6327f2f5a80c568df31673d1c/imbalanced_learn-0.8.0-py3-none-any.whl (206kB)\n",
      "\u001b[K     |████████████████████████████████| 215kB 2.9MB/s \n",
      "\u001b[?25hRequirement already satisfied, skipping upgrade: scikit-learn>=0.24 in /usr/local/lib/python3.7/dist-packages (from imbalanced-learn) (0.24.2)\n",
      "Requirement already satisfied, skipping upgrade: joblib>=0.11 in /usr/local/lib/python3.7/dist-packages (from imbalanced-learn) (1.0.1)\n",
      "Requirement already satisfied, skipping upgrade: scipy>=0.19.1 in /usr/local/lib/python3.7/dist-packages (from imbalanced-learn) (1.4.1)\n",
      "Requirement already satisfied, skipping upgrade: numpy>=1.13.3 in /usr/local/lib/python3.7/dist-packages (from imbalanced-learn) (1.19.5)\n",
      "Requirement already satisfied, skipping upgrade: threadpoolctl>=2.0.0 in /usr/local/lib/python3.7/dist-packages (from scikit-learn>=0.24->imbalanced-learn) (2.1.0)\n",
      "Installing collected packages: imbalanced-learn\n",
      "  Found existing installation: imbalanced-learn 0.4.3\n",
      "    Uninstalling imbalanced-learn-0.4.3:\n",
      "      Successfully uninstalled imbalanced-learn-0.4.3\n",
      "Successfully installed imbalanced-learn-0.8.0\n"
     ]
    }
   ],
   "source": [
    "!pip install -U imbalanced-learn"
   ]
  },
  {
   "cell_type": "code",
   "execution_count": null,
   "metadata": {
    "id": "EvZhVPah1WnI"
   },
   "outputs": [],
   "source": [
    "from imblearn.over_sampling import SMOTE\n",
    "from sklearn.datasets import make_classification\n",
    "import matplotlib.pyplot as plt\n",
    "import seaborn as sns"
   ]
  },
  {
   "cell_type": "code",
   "execution_count": null,
   "metadata": {
    "colab": {
     "base_uri": "https://localhost:8080/"
    },
    "executionInfo": {
     "elapsed": 370,
     "status": "ok",
     "timestamp": 1622569005566,
     "user": {
      "displayName": "Maria Ximena Arias Barahona",
      "photoUrl": "https://lh3.googleusercontent.com/a-/AOh14GjTqDWwbM5jN23nAH8MccUYNyBDyKC4X5vFJdlnyA=s64",
      "userId": "10381678158060334319"
     },
     "user_tz": 300
    },
    "id": "8D4mZTeZ1Wg4",
    "outputId": "b63196c8-cc0b-4ff9-d3cf-a09359ea8911"
   },
   "outputs": [
    {
     "name": "stdout",
     "output_type": "stream",
     "text": [
      "Shape of X before SMOTE: (8319,)\n",
      "Shape of X after SMOTE: (23088, 3637)\n",
      "\n",
      "Balance of positive and negative classes (%):\n"
     ]
    },
    {
     "data": {
      "text/plain": [
       "Creación / inactivación de usuario                           7.692308\n",
       "Revisión de formularios                                      7.692308\n",
       "Informes de reporte y mantenimiento                          7.692308\n",
       "No envia el backup de app móvil / no cargan datos en app     7.692308\n",
       "Disminución de desempeño de plataforma                       7.692308\n",
       "Datos erróneos en reporte / actualización de reportes        7.692308\n",
       "Creación de servicios / publicación de servicios             7.692308\n",
       "Configuración de visor                                       7.692308\n",
       "Capacitación de módulo o funcionalidad                       7.692308\n",
       "Cambiar datos por BD, Cambiar estado de OT                   7.692308\n",
       "Auditoria del sistema / interrupción completa de servicio    7.692308\n",
       "Configuración GPS                                            7.692308\n",
       "Carga de datos masiva, gestión de tickets                    7.692308\n",
       "Name: categoria, dtype: float64"
      ]
     },
     "execution_count": 31,
     "metadata": {
      "tags": []
     },
     "output_type": "execute_result"
    }
   ],
   "source": [
    "from imblearn.over_sampling import SMOTE \n",
    "\n",
    "sm = SMOTE(random_state=42)\n",
    "\n",
    "X_sm, y_sm = sm.fit_resample(X_train, y_train) \n",
    "\n",
    "print(f'''Shape of X before SMOTE: {X.shape}\n",
    "Shape of X after SMOTE: {X_sm.shape}''')\n",
    "\n",
    "print('\\nBalance of positive and negative classes (%):')\n",
    "y_sm.value_counts(normalize=True) * 100"
   ]
  },
  {
   "cell_type": "code",
   "execution_count": null,
   "metadata": {
    "id": "QpjROcOm1WZE"
   },
   "outputs": [],
   "source": [
    "X_train, X_test, y_train, y_test = train_test_split(X_sm, y_sm, test_size=0.20, random_state=42)"
   ]
  },
  {
   "cell_type": "code",
   "execution_count": null,
   "metadata": {
    "colab": {
     "base_uri": "https://localhost:8080/"
    },
    "executionInfo": {
     "elapsed": 78183,
     "status": "ok",
     "timestamp": 1622569375621,
     "user": {
      "displayName": "Maria Ximena Arias Barahona",
      "photoUrl": "https://lh3.googleusercontent.com/a-/AOh14GjTqDWwbM5jN23nAH8MccUYNyBDyKC4X5vFJdlnyA=s64",
      "userId": "10381678158060334319"
     },
     "user_tz": 300
    },
    "id": "C64-tkEr1WTq",
    "outputId": "04c05aaa-7275-4c5a-e781-bb4e55628b49"
   },
   "outputs": [
    {
     "name": "stdout",
     "output_type": "stream",
     "text": [
      "[WARNING] [2021-06-01 17:36:55,815:Client-AutoMLSMBO(1)::f3534dec-c2ff-11eb-8202-0242ac1c0002] Configuration 86 not found\n",
      "[WARNING] [2021-06-01 17:36:55,817:Client-AutoMLSMBO(1)::f3534dec-c2ff-11eb-8202-0242ac1c0002] Configuration 446 not found\n",
      "[WARNING] [2021-06-01 17:36:55,818:Client-AutoMLSMBO(1)::f3534dec-c2ff-11eb-8202-0242ac1c0002] Configuration 484 not found\n",
      "[WARNING] [2021-06-01 17:36:55,819:Client-AutoMLSMBO(1)::f3534dec-c2ff-11eb-8202-0242ac1c0002] Configuration 556 not found\n",
      "[WARNING] [2021-06-01 17:36:55,819:Client-AutoMLSMBO(1)::f3534dec-c2ff-11eb-8202-0242ac1c0002] Configuration 135 not found\n",
      "[WARNING] [2021-06-01 17:36:55,819:Client-AutoMLSMBO(1)::f3534dec-c2ff-11eb-8202-0242ac1c0002] Configuration 482 not found\n",
      "[WARNING] [2021-06-01 17:36:55,823:Client-AutoMLSMBO(1)::f3534dec-c2ff-11eb-8202-0242ac1c0002] Configuration 467 not found\n",
      "[WARNING] [2021-06-01 17:36:55,819:Client-AutoMLSMBO(1)::f3534dec-c2ff-11eb-8202-0242ac1c0002] Configuration 376 not found\n",
      "[WARNING] [2021-06-01 17:36:55,820:Client-AutoMLSMBO(1)::f3534dec-c2ff-11eb-8202-0242ac1c0002] Configuration 273 not found\n",
      "[WARNING] [2021-06-01 17:36:55,820:Client-AutoMLSMBO(1)::f3534dec-c2ff-11eb-8202-0242ac1c0002] Configuration 352 not found\n",
      "[WARNING] [2021-06-01 17:36:55,821:Client-AutoMLSMBO(1)::f3534dec-c2ff-11eb-8202-0242ac1c0002] Configuration 503 not found\n",
      "[WARNING] [2021-06-01 17:36:55,821:Client-AutoMLSMBO(1)::f3534dec-c2ff-11eb-8202-0242ac1c0002] Configuration 14 not found\n",
      "[WARNING] [2021-06-01 17:36:55,823:Client-AutoMLSMBO(1)::f3534dec-c2ff-11eb-8202-0242ac1c0002] Configuration 540 not found\n",
      "[WARNING] [2021-06-01 17:36:55,824:Client-AutoMLSMBO(1)::f3534dec-c2ff-11eb-8202-0242ac1c0002] Configuration 192 not found\n",
      "[WARNING] [2021-06-01 17:36:55,824:Client-AutoMLSMBO(1)::f3534dec-c2ff-11eb-8202-0242ac1c0002] Configuration 420 not found\n",
      "[WARNING] [2021-06-01 17:36:55,824:Client-AutoMLSMBO(1)::f3534dec-c2ff-11eb-8202-0242ac1c0002] Configuration 406 not found\n",
      "[WARNING] [2021-06-01 17:36:55,824:Client-AutoMLSMBO(1)::f3534dec-c2ff-11eb-8202-0242ac1c0002] Configuration 102 not found\n",
      "[WARNING] [2021-06-01 17:36:55,825:Client-AutoMLSMBO(1)::f3534dec-c2ff-11eb-8202-0242ac1c0002] Configuration 139 not found\n",
      "[WARNING] [2021-06-01 17:36:55,825:Client-AutoMLSMBO(1)::f3534dec-c2ff-11eb-8202-0242ac1c0002] Configuration 355 not found\n",
      "[WARNING] [2021-06-01 17:36:55,826:Client-AutoMLSMBO(1)::f3534dec-c2ff-11eb-8202-0242ac1c0002] Configuration 65 not found\n",
      "[WARNING] [2021-06-01 17:36:55,827:Client-AutoMLSMBO(1)::f3534dec-c2ff-11eb-8202-0242ac1c0002] Configuration 382 not found\n",
      "[WARNING] [2021-06-01 17:36:55,827:Client-AutoMLSMBO(1)::f3534dec-c2ff-11eb-8202-0242ac1c0002] Configuration 327 not found\n",
      "[WARNING] [2021-06-01 17:36:55,827:Client-AutoMLSMBO(1)::f3534dec-c2ff-11eb-8202-0242ac1c0002] Configuration 487 not found\n",
      "[WARNING] [2021-06-01 17:36:55,828:Client-AutoMLSMBO(1)::f3534dec-c2ff-11eb-8202-0242ac1c0002] Configuration 8 not found\n",
      "[WARNING] [2021-06-01 17:36:55,828:Client-AutoMLSMBO(1)::f3534dec-c2ff-11eb-8202-0242ac1c0002] Configuration 144 not found\n",
      "[WARNING] [2021-06-01 17:36:55,828:Client-AutoMLSMBO(1)::f3534dec-c2ff-11eb-8202-0242ac1c0002] Configuration 26 not found\n",
      "[WARNING] [2021-06-01 17:36:55,829:Client-AutoMLSMBO(1)::f3534dec-c2ff-11eb-8202-0242ac1c0002] Configuration 415 not found\n",
      "[WARNING] [2021-06-01 17:36:55,829:Client-AutoMLSMBO(1)::f3534dec-c2ff-11eb-8202-0242ac1c0002] Configuration 1 not found\n",
      "[WARNING] [2021-06-01 17:36:55,829:Client-AutoMLSMBO(1)::f3534dec-c2ff-11eb-8202-0242ac1c0002] Configuration 127 not found\n",
      "[WARNING] [2021-06-01 17:36:55,830:Client-AutoMLSMBO(1)::f3534dec-c2ff-11eb-8202-0242ac1c0002] Configuration 141 not found\n",
      "[WARNING] [2021-06-01 17:36:55,830:Client-AutoMLSMBO(1)::f3534dec-c2ff-11eb-8202-0242ac1c0002] Configuration 187 not found\n",
      "[WARNING] [2021-06-01 17:36:55,830:Client-AutoMLSMBO(1)::f3534dec-c2ff-11eb-8202-0242ac1c0002] Configuration 301 not found\n",
      "[WARNING] [2021-06-01 17:36:55,830:Client-AutoMLSMBO(1)::f3534dec-c2ff-11eb-8202-0242ac1c0002] Configuration 523 not found\n",
      "[WARNING] [2021-06-01 17:36:55,830:Client-AutoMLSMBO(1)::f3534dec-c2ff-11eb-8202-0242ac1c0002] Configuration 360 not found\n",
      "[WARNING] [2021-06-01 17:36:55,831:Client-AutoMLSMBO(1)::f3534dec-c2ff-11eb-8202-0242ac1c0002] Configuration 473 not found\n",
      "[WARNING] [2021-06-01 17:36:55,831:Client-AutoMLSMBO(1)::f3534dec-c2ff-11eb-8202-0242ac1c0002] Configuration 146 not found\n",
      "[WARNING] [2021-06-01 17:36:55,831:Client-AutoMLSMBO(1)::f3534dec-c2ff-11eb-8202-0242ac1c0002] Configuration 527 not found\n",
      "[WARNING] [2021-06-01 17:36:55,831:Client-AutoMLSMBO(1)::f3534dec-c2ff-11eb-8202-0242ac1c0002] Configuration 258 not found\n",
      "[WARNING] [2021-06-01 17:36:55,831:Client-AutoMLSMBO(1)::f3534dec-c2ff-11eb-8202-0242ac1c0002] Configuration 176 not found\n",
      "[WARNING] [2021-06-01 17:36:55,831:Client-AutoMLSMBO(1)::f3534dec-c2ff-11eb-8202-0242ac1c0002] Configuration 105 not found\n",
      "[WARNING] [2021-06-01 17:36:55,831:Client-AutoMLSMBO(1)::f3534dec-c2ff-11eb-8202-0242ac1c0002] Configuration 204 not found\n",
      "[WARNING] [2021-06-01 17:36:55,831:Client-AutoMLSMBO(1)::f3534dec-c2ff-11eb-8202-0242ac1c0002] Configuration 7 not found\n",
      "[WARNING] [2021-06-01 17:36:55,832:Client-AutoMLSMBO(1)::f3534dec-c2ff-11eb-8202-0242ac1c0002] Configuration 295 not found\n",
      "[WARNING] [2021-06-01 17:36:55,833:Client-AutoMLSMBO(1)::f3534dec-c2ff-11eb-8202-0242ac1c0002] Configuration 271 not found\n",
      "[WARNING] [2021-06-01 17:36:55,833:Client-AutoMLSMBO(1)::f3534dec-c2ff-11eb-8202-0242ac1c0002] Configuration 545 not found\n",
      "[WARNING] [2021-06-01 17:36:55,834:Client-AutoMLSMBO(1)::f3534dec-c2ff-11eb-8202-0242ac1c0002] Configuration 225 not found\n",
      "[WARNING] [2021-06-01 17:36:55,834:Client-AutoMLSMBO(1)::f3534dec-c2ff-11eb-8202-0242ac1c0002] Configuration 62 not found\n",
      "[WARNING] [2021-06-01 17:36:55,834:Client-AutoMLSMBO(1)::f3534dec-c2ff-11eb-8202-0242ac1c0002] Configuration 313 not found\n",
      "[WARNING] [2021-06-01 17:36:55,835:Client-AutoMLSMBO(1)::f3534dec-c2ff-11eb-8202-0242ac1c0002] Configuration 463 not found\n",
      "[WARNING] [2021-06-01 17:36:55,835:Client-AutoMLSMBO(1)::f3534dec-c2ff-11eb-8202-0242ac1c0002] Configuration 279 not found\n",
      "[WARNING] [2021-06-01 17:36:55,835:Client-AutoMLSMBO(1)::f3534dec-c2ff-11eb-8202-0242ac1c0002] Configuration 50 not found\n",
      "[WARNING] [2021-06-01 17:36:55,836:Client-AutoMLSMBO(1)::f3534dec-c2ff-11eb-8202-0242ac1c0002] Configuration 385 not found\n",
      "[WARNING] [2021-06-01 17:36:55,836:Client-AutoMLSMBO(1)::f3534dec-c2ff-11eb-8202-0242ac1c0002] Configuration 554 not found\n",
      "[WARNING] [2021-06-01 17:36:55,838:Client-AutoMLSMBO(1)::f3534dec-c2ff-11eb-8202-0242ac1c0002] Configuration 476 not found\n",
      "[WARNING] [2021-06-01 17:36:55,838:Client-AutoMLSMBO(1)::f3534dec-c2ff-11eb-8202-0242ac1c0002] Configuration 516 not found\n",
      "[WARNING] [2021-06-01 17:36:55,838:Client-AutoMLSMBO(1)::f3534dec-c2ff-11eb-8202-0242ac1c0002] Configuration 449 not found\n",
      "[WARNING] [2021-06-01 17:36:55,838:Client-AutoMLSMBO(1)::f3534dec-c2ff-11eb-8202-0242ac1c0002] Configuration 160 not found\n",
      "[WARNING] [2021-06-01 17:36:55,839:Client-AutoMLSMBO(1)::f3534dec-c2ff-11eb-8202-0242ac1c0002] Configuration 495 not found\n",
      "[WARNING] [2021-06-01 17:36:55,839:Client-AutoMLSMBO(1)::f3534dec-c2ff-11eb-8202-0242ac1c0002] Configuration 511 not found\n",
      "[WARNING] [2021-06-01 17:36:55,839:Client-AutoMLSMBO(1)::f3534dec-c2ff-11eb-8202-0242ac1c0002] Configuration 365 not found\n",
      "[WARNING] [2021-06-01 17:36:55,840:Client-AutoMLSMBO(1)::f3534dec-c2ff-11eb-8202-0242ac1c0002] Configuration 530 not found\n",
      "[WARNING] [2021-06-01 17:36:55,840:Client-AutoMLSMBO(1)::f3534dec-c2ff-11eb-8202-0242ac1c0002] Configuration 534 not found\n",
      "[WARNING] [2021-06-01 17:36:55,841:Client-AutoMLSMBO(1)::f3534dec-c2ff-11eb-8202-0242ac1c0002] Configuration 334 not found\n",
      "[WARNING] [2021-06-01 17:36:55,841:Client-AutoMLSMBO(1)::f3534dec-c2ff-11eb-8202-0242ac1c0002] Configuration 33 not found\n",
      "[WARNING] [2021-06-01 17:36:55,841:Client-AutoMLSMBO(1)::f3534dec-c2ff-11eb-8202-0242ac1c0002] Configuration 528 not found\n",
      "[WARNING] [2021-06-01 17:36:55,842:Client-AutoMLSMBO(1)::f3534dec-c2ff-11eb-8202-0242ac1c0002] Configuration 113 not found\n",
      "[WARNING] [2021-06-01 17:36:55,842:Client-AutoMLSMBO(1)::f3534dec-c2ff-11eb-8202-0242ac1c0002] Configuration 549 not found\n",
      "[WARNING] [2021-06-01 17:36:55,844:Client-AutoMLSMBO(1)::f3534dec-c2ff-11eb-8202-0242ac1c0002] Configuration 44 not found\n",
      "[WARNING] [2021-06-01 17:36:55,844:Client-AutoMLSMBO(1)::f3534dec-c2ff-11eb-8202-0242ac1c0002] Configuration 499 not found\n",
      "[WARNING] [2021-06-01 17:36:55,844:Client-AutoMLSMBO(1)::f3534dec-c2ff-11eb-8202-0242ac1c0002] Configuration 98 not found\n",
      "[WARNING] [2021-06-01 17:36:55,846:Client-AutoMLSMBO(1)::f3534dec-c2ff-11eb-8202-0242ac1c0002] Configuration 217 not found\n",
      "[WARNING] [2021-06-01 17:36:55,847:Client-AutoMLSMBO(1)::f3534dec-c2ff-11eb-8202-0242ac1c0002] Configuration 231 not found\n",
      "[WARNING] [2021-06-01 17:36:55,847:Client-AutoMLSMBO(1)::f3534dec-c2ff-11eb-8202-0242ac1c0002] Configuration 297 not found\n",
      "[WARNING] [2021-06-01 17:36:55,848:Client-AutoMLSMBO(1)::f3534dec-c2ff-11eb-8202-0242ac1c0002] Configuration 168 not found\n",
      "[WARNING] [2021-06-01 17:36:55,848:Client-AutoMLSMBO(1)::f3534dec-c2ff-11eb-8202-0242ac1c0002] Configuration 48 not found\n",
      "[WARNING] [2021-06-01 17:36:55,849:Client-AutoMLSMBO(1)::f3534dec-c2ff-11eb-8202-0242ac1c0002] Configuration 20 not found\n",
      "[WARNING] [2021-06-01 17:36:55,850:Client-AutoMLSMBO(1)::f3534dec-c2ff-11eb-8202-0242ac1c0002] Configuration 505 not found\n",
      "[WARNING] [2021-06-01 17:36:55,851:Client-AutoMLSMBO(1)::f3534dec-c2ff-11eb-8202-0242ac1c0002] Configuration 116 not found\n",
      "auto-sklearn results:\n",
      "  Dataset name: f3534dec-c2ff-11eb-8202-0242ac1c0002\n",
      "  Metric: accuracy\n",
      "  Best validation score: 0.943898\n",
      "  Number of target algorithm runs: 6\n",
      "  Number of successful target algorithm runs: 2\n",
      "  Number of crashed target algorithm runs: 0\n",
      "  Number of target algorithms that exceeded the time limit: 4\n",
      "  Number of target algorithms that exceeded the memory limit: 0\n",
      "\n"
     ]
    },
    {
     "data": {
      "text/plain": [
       "0.9558250324815938"
      ]
     },
     "execution_count": 33,
     "metadata": {
      "tags": []
     },
     "output_type": "execute_result"
    }
   ],
   "source": [
    "AutoMLmodel = AutoSklearnClassifier(time_left_for_this_task=6*60,\n",
    "                              per_run_time_limit=60,\n",
    "                              include_estimators=[\"random_forest\",\"libsvm_svc\",\"mlp\"]\n",
    "                              #include_estimators=[\"mlp\"]\n",
    "                              )\n",
    "\n",
    "\n",
    "AutoMLmodel.fit(X_train, y_train)\n",
    "\n",
    "print(AutoMLmodel.sprint_statistics())\n",
    "\n",
    "AutoMLmodel.score(X_test,y_test)"
   ]
  },
  {
   "cell_type": "code",
   "execution_count": null,
   "metadata": {
    "colab": {
     "base_uri": "https://localhost:8080/"
    },
    "executionInfo": {
     "elapsed": 429,
     "status": "ok",
     "timestamp": 1622570972055,
     "user": {
      "displayName": "Maria Ximena Arias Barahona",
      "photoUrl": "https://lh3.googleusercontent.com/a-/AOh14GjTqDWwbM5jN23nAH8MccUYNyBDyKC4X5vFJdlnyA=s64",
      "userId": "10381678158060334319"
     },
     "user_tz": 300
    },
    "id": "_R9BjPVD1WNo",
    "outputId": "1b17b895-352b-4ca7-b24a-1b43665d8e0a"
   },
   "outputs": [
    {
     "name": "stdout",
     "output_type": "stream",
     "text": [
      "[(0.600000, SimpleClassificationPipeline({'balancing:strategy': 'none', 'classifier:__choice__': 'random_forest', 'data_preprocessing:categorical_transformer:categorical_encoding:__choice__': 'one_hot_encoding', 'data_preprocessing:categorical_transformer:category_coalescence:__choice__': 'minority_coalescer', 'data_preprocessing:numerical_transformer:imputation:strategy': 'mean', 'data_preprocessing:numerical_transformer:rescaling:__choice__': 'standardize', 'feature_preprocessor:__choice__': 'no_preprocessing', 'classifier:random_forest:bootstrap': 'True', 'classifier:random_forest:criterion': 'gini', 'classifier:random_forest:max_depth': 'None', 'classifier:random_forest:max_features': 0.5, 'classifier:random_forest:max_leaf_nodes': 'None', 'classifier:random_forest:min_impurity_decrease': 0.0, 'classifier:random_forest:min_samples_leaf': 1, 'classifier:random_forest:min_samples_split': 2, 'classifier:random_forest:min_weight_fraction_leaf': 0.0, 'data_preprocessing:categorical_transformer:category_coalescence:minority_coalescer:minimum_fraction': 0.01},\n",
      "dataset_properties={\n",
      "  'task': 2,\n",
      "  'sparse': True,\n",
      "  'multilabel': False,\n",
      "  'multiclass': True,\n",
      "  'target_type': 'classification',\n",
      "  'signed': False})),\n",
      "(0.400000, SimpleClassificationPipeline({'balancing:strategy': 'weighting', 'classifier:__choice__': 'libsvm_svc', 'data_preprocessing:categorical_transformer:categorical_encoding:__choice__': 'no_encoding', 'data_preprocessing:categorical_transformer:category_coalescence:__choice__': 'minority_coalescer', 'data_preprocessing:numerical_transformer:imputation:strategy': 'most_frequent', 'data_preprocessing:numerical_transformer:rescaling:__choice__': 'normalize', 'feature_preprocessor:__choice__': 'no_preprocessing', 'classifier:libsvm_svc:C': 9267.888846004707, 'classifier:libsvm_svc:gamma': 0.22139016521918667, 'classifier:libsvm_svc:kernel': 'poly', 'classifier:libsvm_svc:max_iter': -1, 'classifier:libsvm_svc:shrinking': 'True', 'classifier:libsvm_svc:tol': 4.882072393715862e-05, 'data_preprocessing:categorical_transformer:category_coalescence:minority_coalescer:minimum_fraction': 0.007361476370837449, 'classifier:libsvm_svc:coef0': 0.0319322767663095, 'classifier:libsvm_svc:degree': 4},\n",
      "dataset_properties={\n",
      "  'task': 2,\n",
      "  'sparse': True,\n",
      "  'multilabel': False,\n",
      "  'multiclass': True,\n",
      "  'target_type': 'classification',\n",
      "  'signed': False})),\n",
      "]\n"
     ]
    }
   ],
   "source": [
    "print(AutoMLmodel.show_models())"
   ]
  },
  {
   "cell_type": "code",
   "execution_count": null,
   "metadata": {
    "colab": {
     "base_uri": "https://localhost:8080/"
    },
    "executionInfo": {
     "elapsed": 644,
     "status": "ok",
     "timestamp": 1622570976900,
     "user": {
      "displayName": "Maria Ximena Arias Barahona",
      "photoUrl": "https://lh3.googleusercontent.com/a-/AOh14GjTqDWwbM5jN23nAH8MccUYNyBDyKC4X5vFJdlnyA=s64",
      "userId": "10381678158060334319"
     },
     "user_tz": 300
    },
    "id": "JN3oRTRc1WKT",
    "outputId": "ccfb7210-6769-4ba6-b566-38ed2573229c"
   },
   "outputs": [
    {
     "data": {
      "text/plain": [
       "{'balancing:strategy': 'weighting',\n",
       " 'classifier:__choice__': 'libsvm_svc',\n",
       " 'classifier:libsvm_svc:C': 9267.888846004707,\n",
       " 'classifier:libsvm_svc:coef0': 0.0319322767663095,\n",
       " 'classifier:libsvm_svc:degree': 4,\n",
       " 'classifier:libsvm_svc:gamma': 0.22139016521918667,\n",
       " 'classifier:libsvm_svc:kernel': 'poly',\n",
       " 'classifier:libsvm_svc:max_iter': -1,\n",
       " 'classifier:libsvm_svc:shrinking': 'True',\n",
       " 'classifier:libsvm_svc:tol': 4.882072393715862e-05,\n",
       " 'data_preprocessing:categorical_transformer:categorical_encoding:__choice__': 'no_encoding',\n",
       " 'data_preprocessing:categorical_transformer:category_coalescence:__choice__': 'minority_coalescer',\n",
       " 'data_preprocessing:categorical_transformer:category_coalescence:minority_coalescer:minimum_fraction': 0.007361476370837449,\n",
       " 'data_preprocessing:numerical_transformer:imputation:strategy': 'most_frequent',\n",
       " 'data_preprocessing:numerical_transformer:rescaling:__choice__': 'normalize',\n",
       " 'feature_preprocessor:__choice__': 'no_preprocessing'}"
      ]
     },
     "execution_count": 35,
     "metadata": {
      "tags": []
     },
     "output_type": "execute_result"
    }
   ],
   "source": [
    "AutoMLmodel.cv_results_['params'][np.argmax(AutoMLmodel.cv_results_['mean_test_score'])]"
   ]
  },
  {
   "cell_type": "code",
   "execution_count": null,
   "metadata": {
    "colab": {
     "base_uri": "https://localhost:8080/",
     "height": 441
    },
    "executionInfo": {
     "elapsed": 8102,
     "status": "ok",
     "timestamp": 1622570989244,
     "user": {
      "displayName": "Maria Ximena Arias Barahona",
      "photoUrl": "https://lh3.googleusercontent.com/a-/AOh14GjTqDWwbM5jN23nAH8MccUYNyBDyKC4X5vFJdlnyA=s64",
      "userId": "10381678158060334319"
     },
     "user_tz": 300
    },
    "id": "_JfQhnxk1WGm",
    "outputId": "3a12695b-45a2-432e-9cf4-7d79db65a271"
   },
   "outputs": [
    {
     "data": {
      "image/png": "[encoded data removed]",
      "text/plain": [
       "<Figure size 432x432 with 1 Axes>"
      ]
     },
     "metadata": {
      "needs_background": "light",
      "tags": []
     },
     "output_type": "display_data"
    }
   ],
   "source": [
    "y_pred = AutoMLmodel.predict(X_test)\n",
    "matriz = confusion_matrix(y_test,y_pred)\n",
    "\n",
    "plot_confusion_matrix(conf_mat=matriz, figsize=(6,6), show_normed=False)\n",
    "plt.tight_layout()"
   ]
  },
  {
   "cell_type": "code",
   "execution_count": null,
   "metadata": {
    "colab": {
     "base_uri": "https://localhost:8080/"
    },
    "executionInfo": {
     "elapsed": 432,
     "status": "ok",
     "timestamp": 1622570992560,
     "user": {
      "displayName": "Maria Ximena Arias Barahona",
      "photoUrl": "https://lh3.googleusercontent.com/a-/AOh14GjTqDWwbM5jN23nAH8MccUYNyBDyKC4X5vFJdlnyA=s64",
      "userId": "10381678158060334319"
     },
     "user_tz": 300
    },
    "id": "tOMMA54M13I3",
    "outputId": "fa79246f-897e-4aee-e393-f3e70f9feea1"
   },
   "outputs": [
    {
     "name": "stdout",
     "output_type": "stream",
     "text": [
      "Accuracy: 0.9558250324815938\n",
      "F1 score: 0.9568804084906628\n",
      "Recall: 0.9558250324815938\n",
      "Precision: 0.9596574500831216\n",
      "\n",
      " clasification report:\n",
      "                                                            precision    recall  f1-score   support\n",
      "\n",
      "Auditoria del sistema / interrupción completa de servicio       0.99      0.99      0.99       348\n",
      "               Cambiar datos por BD, Cambiar estado de OT       0.71      0.85      0.77       348\n",
      "                   Capacitación de módulo o funcionalidad       1.00      0.99      0.99       368\n",
      "                Carga de datos masiva, gestión de tickets       0.98      0.87      0.93       332\n",
      "                                        Configuración GPS       0.98      0.99      0.99       361\n",
      "                                   Configuración de visor       0.99      0.98      0.99       356\n",
      "                       Creación / inactivación de usuario       0.94      0.96      0.95       350\n",
      "         Creación de servicios / publicación de servicios       0.99      0.99      0.99       363\n",
      "    Datos erróneos en reporte / actualización de reportes       0.95      0.88      0.91       333\n",
      "                   Disminución de desempeño de plataforma       1.00      1.00      1.00       370\n",
      "                      Informes de reporte y mantenimiento       0.98      1.00      0.99       369\n",
      " No envia el backup de app móvil / no cargan datos en app       0.99      0.99      0.99       363\n",
      "                                  Revisión de formularios       0.98      0.92      0.95       357\n",
      "\n",
      "                                                 accuracy                           0.96      4618\n",
      "                                                macro avg       0.96      0.95      0.96      4618\n",
      "                                             weighted avg       0.96      0.96      0.96      4618\n",
      "\n"
     ]
    }
   ],
   "source": [
    "print ('Accuracy:', accuracy_score(y_test, y_pred))\n",
    "print ('F1 score:', f1_score(y_test, y_pred,average='weighted'))\n",
    "print ('Recall:', recall_score(y_test, y_pred,\n",
    "                              average='weighted'))\n",
    "print ('Precision:', precision_score(y_test, y_pred,\n",
    "                                    average='weighted'))\n",
    "print ('\\n clasification report:\\n', classification_report(y_test, y_pred))\n",
    "\n",
    "plt.show()"
   ]
  }
 ],
 "metadata": {
  "colab": {
   "authorship_tag": "ABX9TyMx3nWCFh5aFLeNzlyYOpvd",
   "collapsed_sections": [],
   "mount_file_id": "1kelkn65sOGZ4J3oXWPxesjELMC-Xzmg7",
   "name": "6 - PROYECTO FINAL - Auto_Sklearn_DEF.ipynb",
   "provenance": []
  },
  "kernelspec": {
   "display_name": "Python 3",
   "language": "python",
   "name": "python3"
  },
  "language_info": {
   "codemirror_mode": {
    "name": "ipython",
    "version": 3
   },
   "file_extension": ".py",
   "mimetype": "text/x-python",
   "name": "python",
   "nbconvert_exporter": "python",
   "pygments_lexer": "ipython3",
   "version": "3.8.3"
  }
 },
 "nbformat": 4,
 "nbformat_minor": 1
}
